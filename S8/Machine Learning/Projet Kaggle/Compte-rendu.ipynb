{
 "cells": [
  {
   "cell_type": "markdown",
   "metadata": {},
   "source": [
    "# Kaggle Project\n",
    "\n",
    "Deep learning models are widely used for image classification. The goal of this project is to compare state-of-the-art models on a subset of ImageNet dataset.\n",
    "\n",
    "The link of the project is : https://www.kaggle.com/competitions/modia-ml-2024/overview\n",
    "\n",
    "**Notice** : You should upload a report, together with your code to Moodle, for the validation of the course. Do not copy-paste other people’s report or code.\n",
    "\n",
    "**Due** : 27 Juin 2024."
   ]
  },
  {
   "cell_type": "markdown",
   "metadata": {},
   "source": [
    "## 1 Learn how to use Pytorch\n",
    "\n",
    "Refer to the website https://pytorch.org/tutorials/beginner/basics/intro.html."
   ]
  },
  {
   "cell_type": "markdown",
   "metadata": {},
   "source": [
    "## 2 Train state-of-the-art CNN models\n",
    "\n",
    "The goal is to achieve a good classification accuracy on the test dataset, using Pytorch.\n",
    "\n",
    " - Implement one or two models from the following list :\n",
    "    - LeNet Model [1]\n",
    "    - AlexNet Model [2]\n",
    "    - ResNet Model [3]\n",
    "\n",
    " - In your report, you should give a precise definition of the model which you use, e.g. the number of layers and the type of each layer in CNN.\n",
    "\n",
    " - Pre-process your images in black and white\n",
    "\n",
    " - Pre-process your images so that they have the same input size to your model, e.g. use data augmentation.\n",
    "\n",
    " - Train your model using mini-batch SGD. Specify the optimization method which you use and report the total training time. To reduce the training time, you may use a GPU card.\n",
    "\n",
    " - Perform your parameter turning on a validation set to avoid over-fitting. Summarize your results in table/figure."
   ]
  },
  {
   "cell_type": "code",
   "execution_count": 1,
   "metadata": {},
   "outputs": [
    {
     "name": "stdout",
     "output_type": "stream",
     "text": [
      "Device: cuda\n",
      "GPUStatCollection(host=n7student, [\n",
      "  [0] NVIDIA RTX A500 Laptop GPU | 58°C,   0 % |     9 /  4096 MB | root(4M)\n",
      "])\n"
     ]
    }
   ],
   "source": [
    "# Imports\n",
    "import matplotlib.pyplot as plt\n",
    "import torch\n",
    "import torch.nn as nn\n",
    "import torchvision\n",
    "import pandas as pd\n",
    "import numpy as np\n",
    "import torchvision.transforms as transforms\n",
    "import torch.nn.functional as F\n",
    "from torch.utils.data import Dataset, DataLoader, random_split\n",
    "from PIL import Image\n",
    "import os\n",
    "import tqdm\n",
    "from tqdm.auto import tqdm\n",
    "import gpustat\n",
    "\n",
    "\n",
    "# Device configuration\n",
    "device = torch.device('cuda' if torch.cuda.is_available() else 'cpu')\n",
    "print(f'Device: {device}')\n",
    "gpu_stats = gpustat.new_query()\n",
    "print(gpu_stats)\n",
    "\n",
    "#device = torch.device('cpu')"
   ]
  },
  {
   "cell_type": "code",
   "execution_count": 2,
   "metadata": {},
   "outputs": [],
   "source": [
    "# Create a Train Dataset\n",
    "class TrainDataset(Dataset):\n",
    "    def __init__(self, labels_file, im_dir, transform=None):\n",
    "        self.img_labels = pd.read_csv(labels_file)\n",
    "        self.img_dir = im_dir\n",
    "        self.transform = transform\n",
    "        \n",
    "    def __len__(self):\n",
    "        return len(self.img_labels)\n",
    "    \n",
    "    def __getitem__(self, idx):\n",
    "        img_path = os.path.join(self.img_dir, str(self.img_labels.iloc[idx, 0]) + \".jpg\")\n",
    "        image = Image.open(img_path).convert(\"RGB\")\n",
    "        label = self.img_labels.iloc[idx, 1] - 1\n",
    "        if self.transform:\n",
    "            image = self.transform(image)\n",
    "        return image, label\n",
    "\n",
    "# Create a Test Dataset\n",
    "class TestDataset(Dataset):\n",
    "    def __init__(self, im_dir, transform=None):\n",
    "        self.img_dir = im_dir\n",
    "        self.transform = transform\n",
    "        \n",
    "    def __len__(self):\n",
    "        return len(os.listdir(self.img_dir))\n",
    "    \n",
    "    def __getitem__(self, idx):\n",
    "        img_path = os.path.join(self.img_dir, str(idx + 4000) + \".jpg\")\n",
    "        image = Image.open(img_path).convert(\"RGB\")\n",
    "        if self.transform:\n",
    "            image = self.transform(image)\n",
    "        return image"
   ]
  },
  {
   "cell_type": "code",
   "execution_count": 3,
   "metadata": {},
   "outputs": [],
   "source": [
    "# Image transformations\n",
    "IMAGE_SIZE = 256\n",
    "transform = transforms.Compose([\n",
    "    # Preprocess in black and white, and same size\n",
    "    transforms.Grayscale(num_output_channels=1),\n",
    "    transforms.CenterCrop(IMAGE_SIZE),\n",
    "    \n",
    "    # Data augmentation\n",
    "    transforms.RandomHorizontalFlip(),\n",
    "    transforms.RandomVerticalFlip(),\n",
    "    transforms.RandomRotation(10),\n",
    "    \n",
    "    transforms.ToTensor(),\n",
    "    transforms.Normalize(mean=0.5,std=0.5)\n",
    "])\n",
    "\n",
    "# Data paths\n",
    "label_path = './train.csv'\n",
    "train_dir = './train/'\n",
    "test_dir = './test/'\n",
    "\n",
    "# Dataset\n",
    "train_dataset = TrainDataset(labels_file=label_path, im_dir=train_dir, transform=transform)\n",
    "test_dataset = TestDataset(im_dir=test_dir, transform=transform)"
   ]
  },
  {
   "cell_type": "code",
   "execution_count": 4,
   "metadata": {},
   "outputs": [],
   "source": [
    "# Création du modèle LeNet\n",
    "class LeNet(nn.Module):\n",
    "    def __init__(self, num_channels=1, num_classes=4):\n",
    "        super(LeNet, self).__init__()\n",
    "        self.conv1 = nn.Conv2d(num_channels, 6, kernel_size=5, padding=2)\n",
    "        self.conv2 = nn.Conv2d(6, 16, kernel_size=5)\n",
    "        self.fc1   = nn.Linear(62*62*16, 120)\n",
    "        self.fc2   = nn.Linear(120, 84)\n",
    "        self.fc3   = nn.Linear(84, num_classes)\n",
    "    \n",
    "    def forward(self, x):\n",
    "        x = F.max_pool2d(F.relu(self.conv1(x)), kernel_size=(2, 2), stride=2)\n",
    "        x = F.max_pool2d(F.relu(self.conv2(x)), kernel_size=(2, 2), stride=2)\n",
    "        x = nn.Flatten()(x)\n",
    "        x = F.relu(self.fc1(x))\n",
    "        x = F.relu(self.fc2(x))\n",
    "        x = self.fc3(x)\n",
    "        return x"
   ]
  },
  {
   "cell_type": "code",
   "execution_count": 5,
   "metadata": {},
   "outputs": [],
   "source": [
    "# Création du modèle ResNet\n",
    "class ResNet(nn.Module):\n",
    "    def __init__(self, num_channels=1, num_classes=4):\n",
    "        super(ResNet, self).__init__()\n",
    "        self.resnet = torchvision.models.resnet18(pretrained=False)\n",
    "        self.resnet.conv1 = nn.Conv2d(num_channels, 64, kernel_size=7, stride=2, padding=3, bias=False)\n",
    "        self.resnet.fc = nn.Linear(512, num_classes)\n",
    "    \n",
    "    def forward(self, x):\n",
    "        return self.resnet(x)"
   ]
  },
  {
   "cell_type": "code",
   "execution_count": 6,
   "metadata": {},
   "outputs": [
    {
     "name": "stderr",
     "output_type": "stream",
     "text": [
      "/home/felix/miniforge3/envs/optim/lib/python3.10/site-packages/torchvision/models/_utils.py:208: UserWarning: The parameter 'pretrained' is deprecated since 0.13 and may be removed in the future, please use 'weights' instead.\n",
      "  warnings.warn(\n",
      "/home/felix/miniforge3/envs/optim/lib/python3.10/site-packages/torchvision/models/_utils.py:223: UserWarning: Arguments other than a weight enum or `None` for 'weights' are deprecated since 0.13 and may be removed in the future. The current behavior is equivalent to passing `weights=None`.\n",
      "  warnings.warn(msg)\n"
     ]
    }
   ],
   "source": [
    "# Hyperparameters\n",
    "num_classes = 4\n",
    "num_epochs = 1\n",
    "batch_size = 32\n",
    "learning_rate = 0.01\n",
    "train_size = len(train_dataset)*0.8\n",
    "\n",
    "#model = LeNet(num_classes=num_classes)\n",
    "model = ResNet(num_classes=num_classes)\n",
    "\n",
    "# Loss and optimizer\n",
    "criterion = nn.CrossEntropyLoss()\n",
    "optimizer = torch.optim.SGD(model.parameters(), lr=learning_rate, weight_decay = 0.001, momentum = 0.9)\n",
    "scheduler = torch.optim.lr_scheduler.StepLR(optimizer, step_size=5)\n",
    "\n",
    "# Splitting the dataset\n",
    "train_dataset, val_dataset = random_split(train_dataset, [int(train_size), len(train_dataset)-int(train_size)])\n",
    "\n",
    "# Data loaders\n",
    "train_loader = DataLoader(dataset=train_dataset, batch_size=batch_size, shuffle=True)\n",
    "val_loader = DataLoader(dataset=val_dataset, batch_size=batch_size, shuffle=True)\n",
    "test_loader = DataLoader(dataset=test_dataset, batch_size=batch_size, shuffle=False)"
   ]
  },
  {
   "cell_type": "code",
   "execution_count": 7,
   "metadata": {},
   "outputs": [],
   "source": [
    "# Training function\n",
    "def train(model, criterion, optimizer, train_loader):\n",
    "    model.to(device)\n",
    "    model.train()\n",
    "    \n",
    "    train_losses = []\n",
    "    train_acc = []\n",
    "    \n",
    "    with tqdm(total=len(train_loader), desc=\"Training\", unit=\"batch\") as pbar:\n",
    "        for i, (image, label) in enumerate(train_loader):\n",
    "            image = image.to(device)\n",
    "            label = label.to(device)\n",
    "            \n",
    "            # Forward pass\n",
    "            output = model(image)\n",
    "            loss_value = criterion(output, label)\n",
    "            train_losses.append(loss_value.item())\n",
    "            \n",
    "            # Calculate softmax and accuracy\n",
    "            soft_output = torch.nn.functional.softmax(output, dim=1)\n",
    "            _, predicted = torch.max(soft_output, 1)\n",
    "            correct = (predicted == label).sum().item()\n",
    "            accuracy = correct / label.size(0)\n",
    "            train_acc.append(accuracy)\n",
    "\n",
    "            # Update progress bar\n",
    "            loss_cur = loss_value.item()\n",
    "            current = i * len(image) + len(image)\n",
    "            acc_cur = np.mean(train_acc)\n",
    "            pbar.set_postfix(loss=f\"{loss_cur:.7f}\", current=f\"{current}/{len(train_loader.dataset)}\", accuracy=f\"{acc_cur:.7f}\")\n",
    "\n",
    "            # Backward and optimize\n",
    "            optimizer.zero_grad()\n",
    "            loss_value.backward()\n",
    "            optimizer.step()\n",
    "            \n",
    "            pbar.update(1)\n",
    "\n",
    "    return np.mean(train_losses), np.mean(train_acc)\n",
    "\n",
    "\n",
    "# Validation function\n",
    "def validate(model, criterion, val_loader):\n",
    "    model.eval()\n",
    "    \n",
    "    val_losses = []\n",
    "    val_acc = []\n",
    "    \n",
    "    with tqdm(total=len(val_loader), desc=\"Validation\", unit=\"batch\") as pbar:\n",
    "        with torch.no_grad():\n",
    "            for images, labels in val_loader:\n",
    "                images = images.to(device)\n",
    "                labels = labels.to(device)\n",
    "                \n",
    "                # Forward pass\n",
    "                outputs = model(images)\n",
    "                loss = criterion(outputs, labels)\n",
    "                val_losses.append(loss.item())\n",
    "                \n",
    "                # Compute accuracy\n",
    "                _, argmax = torch.max(outputs, 1)\n",
    "                accuracy = (labels == argmax).float().mean()\n",
    "                val_acc.append(accuracy.cpu().numpy())\n",
    "        \n",
    "                pbar.update(1)\n",
    "                \n",
    "                \n",
    "    print(f\"Val Loss: {np.mean(val_losses):.4f}, Val Acc: {np.mean(val_acc)*100:.2f}%\")\n",
    "    return np.mean(val_losses), np.mean(val_acc)\n",
    "\n",
    "\n",
    "# Test function\n",
    "test_loader = DataLoader(dataset=test_dataset, batch_size=batch_size, shuffle=False)\n",
    "def test(model, test_loader):\n",
    "    model.eval()\n",
    "    \n",
    "    preds = []\n",
    "    \n",
    "    with torch.no_grad():\n",
    "        for images in test_loader:\n",
    "            images = images.to(device)\n",
    "            \n",
    "            # Forward pass\n",
    "            outputs = model(images)\n",
    "            \n",
    "            # Get predicted labels\n",
    "            _, predicted = torch.max(outputs, 1)\n",
    "            preds.extend(predicted.cpu().numpy())\n",
    "    \n",
    "    return preds"
   ]
  },
  {
   "cell_type": "code",
   "execution_count": 8,
   "metadata": {},
   "outputs": [
    {
     "name": "stdout",
     "output_type": "stream",
     "text": [
      "Epoch 1 of 1\n"
     ]
    },
    {
     "data": {
      "application/vnd.jupyter.widget-view+json": {
       "model_id": "e8094b34118a4c4ab1eb04144f78b71a",
       "version_major": 2,
       "version_minor": 0
      },
      "text/plain": [
       "Training:   0%|          | 0/100 [00:00<?, ?batch/s]"
      ]
     },
     "metadata": {},
     "output_type": "display_data"
    },
    {
     "data": {
      "application/vnd.jupyter.widget-view+json": {
       "model_id": "23be18f55d6f44d189627ab42cd37b87",
       "version_major": 2,
       "version_minor": 0
      },
      "text/plain": [
       "Validation:   0%|          | 0/25 [00:00<?, ?batch/s]"
      ]
     },
     "metadata": {},
     "output_type": "display_data"
    },
    {
     "name": "stdout",
     "output_type": "stream",
     "text": [
      "Val Loss: 1.2963, Val Acc: 49.00%\n",
      "-----------------------------------\n",
      "\n"
     ]
    },
    {
     "data": {
      "image/png": "[encoded data removed]",
      "text/plain": [
       "<Figure size 1000x700 with 1 Axes>"
      ]
     },
     "metadata": {},
     "output_type": "display_data"
    }
   ],
   "source": [
    "# Training loop\n",
    "train_losses = []\n",
    "val_losses = []\n",
    "train_acc = []\n",
    "val_acc = []\n",
    "\n",
    "for epoch in range(num_epochs):\n",
    "    print(f\"Epoch {epoch+1} of {num_epochs}\")\n",
    "    train_loss, train_accuracy = train(model, criterion, optimizer, train_loader)\n",
    "    val_loss, val_accuracy = validate(model, criterion, val_loader)\n",
    "    train_losses.append(train_loss)\n",
    "    val_losses.append(val_loss)\n",
    "    train_acc.append(train_accuracy)\n",
    "    val_acc.append(val_accuracy)\n",
    "    scheduler.step()\n",
    "    print(\"-----------------------------------\")\n",
    "    print()\n",
    "   \n",
    "torch.save(model.state_dict(), \"model\")\n",
    "\n",
    "# Plot loss\n",
    "plt.figure(figsize=(10, 7))\n",
    "plt.plot(train_losses, label='Train Loss')\n",
    "plt.plot(val_losses, label='Validation Loss')\n",
    "plt.xlabel('Epoch')\n",
    "plt.ylabel('Loss')\n",
    "plt.legend()\n",
    "plt.show()"
   ]
  },
  {
   "cell_type": "code",
   "execution_count": 9,
   "metadata": {},
   "outputs": [],
   "source": [
    "# Predictions\n",
    "predictions = test(model, test_loader)\n",
    "\n",
    "# Save predictions\n",
    "submission = pd.DataFrame({'id': np.array(range(len(predictions))) + 4000,\n",
    "                           'Label': np.array(predictions) + 1})\n",
    "\n",
    "submission.to_csv('submission.csv', index=False)"
   ]
  },
  {
   "cell_type": "markdown",
   "metadata": {},
   "source": [
    "## 3 Machine learning and AI safety\n",
    "\n",
    "### 3.1 Bias introduction in ImageNet\n",
    "\n",
    "We try to understand how an image classification model (such as the ones trained in section 2) can be biased towards a specific outcome. To make things easier we consider the binary classification problem (2 classes).\n",
    "\n",
    "We propose to implement the following setup :\n",
    "\n",
    "#### 3.1.1 Biased Dataset Construction\n",
    "\n",
    "We decide to concatenate to each of our images $x$ from ImageNet a new set of variables $\\varepsilon$. As we shall specify, the second variable $\\varepsilon$ is a noise-like image, which is not directly computed from $x$. Yet, it introduces some bias as we choose the value of $\\varepsilon$ to be strongly correlated to the label ($0$ or $1$) of the images.\n",
    "\n",
    "More precisely, we assume $(\\tilde{x}, y) = ([x, \\varepsilon], y)$ is a random sample of the modified dataset.  \n",
    "We shall specify the value of $\\varepsilon$ using $y$. Let $p_0 \\in [0, 1], p_1 \\in [0, 1]$ be two probabilities.  \n",
    "Given $(\\tilde{x}, y)$, the bias variable $S$ is defined as\n",
    "$$\n",
    "S \\sim Bernoulli(p_k), \\quad \\text{ if } y = k, k \\in \\{0, 1\\}.\n",
    "$$\n",
    "\n",
    "Then, we choose $\\varepsilon$ according to $S$ as below :\n",
    "- $\\varepsilon = 0$ if $S = 0$.\n",
    "- $\\varepsilon \\sim \\mathcal{N}(0, \\sigma^2I)$ if $S = 1$.\n",
    "\n",
    "In the extreme case where $p_0 = 0$ and $p_1 = 1$, one can ignore the original image $x$ and only use $\\varepsilon$ to predict $y$. In that case, our predictions are never using the image $x$ and we are only relying on the noise-like $\\varepsilon$ that we introduced to the dataset.\n",
    "\n",
    "**Advice** : in Pytorch, we can build a biased dataset by simply adding the biased variables $\\varepsilon^{\\{i\\}}$ as a dedicated channel to the original images $x^{\\{i\\}}$ for each image index $i$."
   ]
  },
  {
   "cell_type": "markdown",
   "metadata": {},
   "source": [
    "**Question 1** : Build a biased dataset from ImageNet using the approach described in 3.1.1"
   ]
  },
  {
   "cell_type": "code",
   "execution_count": 10,
   "metadata": {},
   "outputs": [],
   "source": [
    "# Create 2 classes\n",
    "label1 = 1 # choux\n",
    "label2 = 3 # choux-fleur\n",
    "label_biased_path = './train_biased.csv'\n",
    "\n",
    "# Create a csv file with the labels\n",
    "df = pd.read_csv('train.csv')\n",
    "df = df.loc[df['label'].isin([label1, label2])]\n",
    "df['label'] = df['label'].replace(label2, 2)\n",
    "df.to_csv(label_biased_path, index=False)"
   ]
  },
  {
   "cell_type": "code",
   "execution_count": 11,
   "metadata": {},
   "outputs": [],
   "source": [
    "# Create a Biased Train Dataset\n",
    "class BiasedTrainDataset(Dataset):\n",
    "    def __init__(self, labels_file, img_dir, p0=0.5, p1=0.5, sigma=1.0, transform=None):\n",
    "        self.img_labels = pd.read_csv(labels_file)\n",
    "        self.img_dir = img_dir\n",
    "        self.transform = transform\n",
    "        self.p0 = p0\n",
    "        self.p1 = p1\n",
    "        self.sigma = sigma\n",
    "        \n",
    "        # Generate bias variable epsilon\n",
    "        \n",
    "        \n",
    "    def __len__(self):\n",
    "        return len(self.img_labels)\n",
    "    \n",
    "    def __getitem__(self, idx):\n",
    "        img_path = os.path.join(self.img_dir, str(self.img_labels.iloc[idx, 0]) + \".jpg\")\n",
    "        image = Image.open(img_path).convert(\"RGB\")\n",
    "        label = self.img_labels.iloc[idx, 1] - 1\n",
    "        \n",
    "        if self.transform:\n",
    "            image = self.transform(image)\n",
    "        \n",
    "        # Generate bias variable epsilon\n",
    "        p = self.p1 if label == 1 else self.p0\n",
    "        S = np.random.binomial(1, p)\n",
    "        if S == 0:\n",
    "            epsilon = torch.zeros_like(image)\n",
    "        else:\n",
    "            epsilon = torch.randn_like(image) * self.sigma\n",
    "        \n",
    "        # Concatenate bias variable to the image\n",
    "        biased_image = torch.cat((image, epsilon), dim=0)\n",
    "        \n",
    "        return biased_image, label"
   ]
  },
  {
   "cell_type": "code",
   "execution_count": 12,
   "metadata": {},
   "outputs": [],
   "source": [
    "# Dataset\n",
    "unbiased_train_dataset = TrainDataset(labels_file=label_biased_path, im_dir=train_dir, transform=transform)\n",
    "biased_train_dataset = BiasedTrainDataset(labels_file=label_biased_path, img_dir=train_dir, transform=transform)"
   ]
  },
  {
   "cell_type": "code",
   "execution_count": 13,
   "metadata": {},
   "outputs": [
    {
     "name": "stdout",
     "output_type": "stream",
     "text": [
      "(tensor([[[-1., -1., -1.,  ..., -1., -1., -1.],\n",
      "         [-1., -1., -1.,  ..., -1., -1., -1.],\n",
      "         [-1., -1., -1.,  ..., -1., -1., -1.],\n",
      "         ...,\n",
      "         [-1., -1., -1.,  ..., -1., -1., -1.],\n",
      "         [-1., -1., -1.,  ..., -1., -1., -1.],\n",
      "         [-1., -1., -1.,  ..., -1., -1., -1.]]]), 0)\n"
     ]
    }
   ],
   "source": [
    "print(unbiased_train_dataset.__getitem__(10))"
   ]
  },
  {
   "cell_type": "code",
   "execution_count": 14,
   "metadata": {},
   "outputs": [
    {
     "name": "stderr",
     "output_type": "stream",
     "text": [
      "/home/felix/miniforge3/envs/optim/lib/python3.10/site-packages/torchvision/models/_utils.py:208: UserWarning: The parameter 'pretrained' is deprecated since 0.13 and may be removed in the future, please use 'weights' instead.\n",
      "  warnings.warn(\n",
      "/home/felix/miniforge3/envs/optim/lib/python3.10/site-packages/torchvision/models/_utils.py:223: UserWarning: Arguments other than a weight enum or `None` for 'weights' are deprecated since 0.13 and may be removed in the future. The current behavior is equivalent to passing `weights=None`.\n",
      "  warnings.warn(msg)\n"
     ]
    }
   ],
   "source": [
    "# Hyperparameters\n",
    "num_classes = 2\n",
    "num_epochs = 10\n",
    "batch_size = 32\n",
    "learning_rate = 0.01\n",
    "train_size = len(unbiased_train_dataset)*0.8\n",
    "\n",
    "#model = LeNet(num_classes=num_classes)\n",
    "model1 = ResNet(num_classes=num_classes)\n",
    "model2 = ResNet(num_classes=num_classes)\n",
    "\n",
    "# Loss and optimizer\n",
    "criterion1 = nn.CrossEntropyLoss()\n",
    "optimizer1 = torch.optim.SGD(model1.parameters(), lr=learning_rate, weight_decay = 0.001, momentum = 0.9)\n",
    "scheduler1 = torch.optim.lr_scheduler.StepLR(optimizer1, step_size=5)\n",
    "criterion2 = nn.CrossEntropyLoss()\n",
    "optimizer2 = torch.optim.SGD(model2.parameters(), lr=learning_rate, weight_decay = 0.001, momentum = 0.9)\n",
    "scheduler2 = torch.optim.lr_scheduler.StepLR(optimizer2, step_size=5)\n",
    "\n",
    "# Splitting the dataset\n",
    "unbiased_train_dataset, unbiased_val_dataset = random_split(unbiased_train_dataset, [int(train_size), len(unbiased_train_dataset)-int(train_size)])\n",
    "biased_train_dataset, biased_val_dataset = random_split(biased_train_dataset, [int(train_size), len(biased_train_dataset)-int(train_size)])\n",
    "\n",
    "# Data loaders\n",
    "unbiased_train_loader = DataLoader(dataset=unbiased_train_dataset, batch_size=batch_size, shuffle=True)\n",
    "unbiased_val_loader = DataLoader(dataset=unbiased_val_dataset, batch_size=batch_size, shuffle=True)\n",
    "biased_train_loader = DataLoader(dataset=biased_train_dataset, batch_size=batch_size, shuffle=True)\n",
    "biased_val_loader = DataLoader(dataset=biased_val_dataset, batch_size=batch_size, shuffle=True)"
   ]
  },
  {
   "cell_type": "code",
   "execution_count": 16,
   "metadata": {},
   "outputs": [
    {
     "name": "stdout",
     "output_type": "stream",
     "text": [
      "Epoch 1 of 10\n"
     ]
    },
    {
     "data": {
      "application/vnd.jupyter.widget-view+json": {
       "model_id": "d3129f7ba5994b4095561fcd57987632",
       "version_major": 2,
       "version_minor": 0
      },
      "text/plain": [
       "Training:   0%|          | 0/50 [00:00<?, ?batch/s]"
      ]
     },
     "metadata": {},
     "output_type": "display_data"
    },
    {
     "data": {
      "application/vnd.jupyter.widget-view+json": {
       "model_id": "f1c0f03ca1614345a908fd1fd5e73d43",
       "version_major": 2,
       "version_minor": 0
      },
      "text/plain": [
       "Validation:   0%|          | 0/13 [00:00<?, ?batch/s]"
      ]
     },
     "metadata": {},
     "output_type": "display_data"
    },
    {
     "name": "stdout",
     "output_type": "stream",
     "text": [
      "Val Loss: 0.9295, Val Acc: 52.07%\n",
      "-----------------------------------\n",
      "\n",
      "Epoch 2 of 10\n"
     ]
    },
    {
     "data": {
      "application/vnd.jupyter.widget-view+json": {
       "model_id": "9459fafddda048739b9eb99c52d20a57",
       "version_major": 2,
       "version_minor": 0
      },
      "text/plain": [
       "Training:   0%|          | 0/50 [00:00<?, ?batch/s]"
      ]
     },
     "metadata": {},
     "output_type": "display_data"
    },
    {
     "data": {
      "application/vnd.jupyter.widget-view+json": {
       "model_id": "8099d2a4c1374a85bcffda324bbdbfd9",
       "version_major": 2,
       "version_minor": 0
      },
      "text/plain": [
       "Validation:   0%|          | 0/13 [00:00<?, ?batch/s]"
      ]
     },
     "metadata": {},
     "output_type": "display_data"
    },
    {
     "name": "stdout",
     "output_type": "stream",
     "text": [
      "Val Loss: 0.6847, Val Acc: 60.26%\n",
      "-----------------------------------\n",
      "\n",
      "Epoch 3 of 10\n"
     ]
    },
    {
     "data": {
      "application/vnd.jupyter.widget-view+json": {
       "model_id": "7a5eb558a320466c8fbf8ce1c41fb2f0",
       "version_major": 2,
       "version_minor": 0
      },
      "text/plain": [
       "Training:   0%|          | 0/50 [00:00<?, ?batch/s]"
      ]
     },
     "metadata": {},
     "output_type": "display_data"
    },
    {
     "data": {
      "application/vnd.jupyter.widget-view+json": {
       "model_id": "7a61fe8daee6491d9777a1df307388c0",
       "version_major": 2,
       "version_minor": 0
      },
      "text/plain": [
       "Validation:   0%|          | 0/13 [00:00<?, ?batch/s]"
      ]
     },
     "metadata": {},
     "output_type": "display_data"
    },
    {
     "name": "stdout",
     "output_type": "stream",
     "text": [
      "Val Loss: 0.6388, Val Acc: 63.98%\n",
      "-----------------------------------\n",
      "\n",
      "Epoch 4 of 10\n"
     ]
    },
    {
     "data": {
      "application/vnd.jupyter.widget-view+json": {
       "model_id": "0c5df441153b454e9b32404bf004a19d",
       "version_major": 2,
       "version_minor": 0
      },
      "text/plain": [
       "Training:   0%|          | 0/50 [00:00<?, ?batch/s]"
      ]
     },
     "metadata": {},
     "output_type": "display_data"
    },
    {
     "data": {
      "application/vnd.jupyter.widget-view+json": {
       "model_id": "73a5b70042884d1cb7c88b6fa0e35f45",
       "version_major": 2,
       "version_minor": 0
      },
      "text/plain": [
       "Validation:   0%|          | 0/13 [00:00<?, ?batch/s]"
      ]
     },
     "metadata": {},
     "output_type": "display_data"
    },
    {
     "name": "stdout",
     "output_type": "stream",
     "text": [
      "Val Loss: 0.6179, Val Acc: 65.90%\n",
      "-----------------------------------\n",
      "\n",
      "Epoch 5 of 10\n"
     ]
    },
    {
     "data": {
      "application/vnd.jupyter.widget-view+json": {
       "model_id": "91d86cc1c73d4f79b585b18f5f417c3b",
       "version_major": 2,
       "version_minor": 0
      },
      "text/plain": [
       "Training:   0%|          | 0/50 [00:00<?, ?batch/s]"
      ]
     },
     "metadata": {},
     "output_type": "display_data"
    },
    {
     "data": {
      "application/vnd.jupyter.widget-view+json": {
       "model_id": "dbc3373969784eb59b5945291d3fb02c",
       "version_major": 2,
       "version_minor": 0
      },
      "text/plain": [
       "Validation:   0%|          | 0/13 [00:00<?, ?batch/s]"
      ]
     },
     "metadata": {},
     "output_type": "display_data"
    },
    {
     "name": "stdout",
     "output_type": "stream",
     "text": [
      "Val Loss: 0.6736, Val Acc: 62.17%\n",
      "-----------------------------------\n",
      "\n",
      "Epoch 6 of 10\n"
     ]
    },
    {
     "data": {
      "application/vnd.jupyter.widget-view+json": {
       "model_id": "87c198b55bba44ba875c48b3da92f6a2",
       "version_major": 2,
       "version_minor": 0
      },
      "text/plain": [
       "Training:   0%|          | 0/50 [00:00<?, ?batch/s]"
      ]
     },
     "metadata": {},
     "output_type": "display_data"
    },
    {
     "data": {
      "application/vnd.jupyter.widget-view+json": {
       "model_id": "b974831915564e15a78ac84a438c9096",
       "version_major": 2,
       "version_minor": 0
      },
      "text/plain": [
       "Validation:   0%|          | 0/13 [00:00<?, ?batch/s]"
      ]
     },
     "metadata": {},
     "output_type": "display_data"
    },
    {
     "name": "stdout",
     "output_type": "stream",
     "text": [
      "Val Loss: 0.6265, Val Acc: 65.66%\n",
      "-----------------------------------\n",
      "\n",
      "Epoch 7 of 10\n"
     ]
    },
    {
     "data": {
      "application/vnd.jupyter.widget-view+json": {
       "model_id": "b4792a94d4c143cdaf704daf5244fa2a",
       "version_major": 2,
       "version_minor": 0
      },
      "text/plain": [
       "Training:   0%|          | 0/50 [00:00<?, ?batch/s]"
      ]
     },
     "metadata": {},
     "output_type": "display_data"
    },
    {
     "data": {
      "application/vnd.jupyter.widget-view+json": {
       "model_id": "30ea87c62f70432e89be937c19d33392",
       "version_major": 2,
       "version_minor": 0
      },
      "text/plain": [
       "Validation:   0%|          | 0/13 [00:00<?, ?batch/s]"
      ]
     },
     "metadata": {},
     "output_type": "display_data"
    },
    {
     "name": "stdout",
     "output_type": "stream",
     "text": [
      "Val Loss: 0.6221, Val Acc: 65.20%\n",
      "-----------------------------------\n",
      "\n",
      "Epoch 8 of 10\n"
     ]
    },
    {
     "data": {
      "application/vnd.jupyter.widget-view+json": {
       "model_id": "41bda86993c14d7380e259a3b50be90d",
       "version_major": 2,
       "version_minor": 0
      },
      "text/plain": [
       "Training:   0%|          | 0/50 [00:00<?, ?batch/s]"
      ]
     },
     "metadata": {},
     "output_type": "display_data"
    },
    {
     "data": {
      "application/vnd.jupyter.widget-view+json": {
       "model_id": "bde62e9ae2a341ec8cd7aae0ad5da8ec",
       "version_major": 2,
       "version_minor": 0
      },
      "text/plain": [
       "Validation:   0%|          | 0/13 [00:00<?, ?batch/s]"
      ]
     },
     "metadata": {},
     "output_type": "display_data"
    },
    {
     "name": "stdout",
     "output_type": "stream",
     "text": [
      "Val Loss: 0.6088, Val Acc: 67.10%\n",
      "-----------------------------------\n",
      "\n",
      "Epoch 9 of 10\n"
     ]
    },
    {
     "data": {
      "application/vnd.jupyter.widget-view+json": {
       "model_id": "93d7192b68ba42b580338a1f49cfabfc",
       "version_major": 2,
       "version_minor": 0
      },
      "text/plain": [
       "Training:   0%|          | 0/50 [00:00<?, ?batch/s]"
      ]
     },
     "metadata": {},
     "output_type": "display_data"
    },
    {
     "data": {
      "application/vnd.jupyter.widget-view+json": {
       "model_id": "a9678f3abc4f4f72a786b7565ebc90dd",
       "version_major": 2,
       "version_minor": 0
      },
      "text/plain": [
       "Validation:   0%|          | 0/13 [00:00<?, ?batch/s]"
      ]
     },
     "metadata": {},
     "output_type": "display_data"
    },
    {
     "name": "stdout",
     "output_type": "stream",
     "text": [
      "Val Loss: 0.6012, Val Acc: 68.66%\n",
      "-----------------------------------\n",
      "\n",
      "Epoch 10 of 10\n"
     ]
    },
    {
     "data": {
      "application/vnd.jupyter.widget-view+json": {
       "model_id": "308716f2c25c4b599f0139d85fce9773",
       "version_major": 2,
       "version_minor": 0
      },
      "text/plain": [
       "Training:   0%|          | 0/50 [00:00<?, ?batch/s]"
      ]
     },
     "metadata": {},
     "output_type": "display_data"
    },
    {
     "data": {
      "application/vnd.jupyter.widget-view+json": {
       "model_id": "bcbe8cf75dfc4c9191d1d5cab7989b8f",
       "version_major": 2,
       "version_minor": 0
      },
      "text/plain": [
       "Validation:   0%|          | 0/13 [00:00<?, ?batch/s]"
      ]
     },
     "metadata": {},
     "output_type": "display_data"
    },
    {
     "name": "stdout",
     "output_type": "stream",
     "text": [
      "Val Loss: 0.6491, Val Acc: 68.79%\n",
      "-----------------------------------\n",
      "\n"
     ]
    },
    {
     "data": {
      "image/png": "[encoded data removed]",
      "text/plain": [
       "<Figure size 1000x700 with 1 Axes>"
      ]
     },
     "metadata": {},
     "output_type": "display_data"
    }
   ],
   "source": [
    "# Train the model with the biased dataset\n",
    "for epoch in range(num_epochs):\n",
    "    print(f\"Epoch {epoch+1} of {num_epochs}\")\n",
    "    train_loss, train_accuracy = train(model1, criterion1, optimizer1, unbiased_train_loader)\n",
    "    val_loss, val_accuracy = validate(model1, criterion1, unbiased_val_loader)\n",
    "    train_losses.append(train_loss)\n",
    "    val_losses.append(val_loss)\n",
    "    train_acc.append(train_accuracy)\n",
    "    val_acc.append(val_accuracy)\n",
    "    scheduler1.step()\n",
    "    print(\"-----------------------------------\")\n",
    "    print()\n",
    "    \n",
    "# Plot loss\n",
    "plt.figure(figsize=(10, 7))\n",
    "plt.plot(train_losses, label='Train Loss')\n",
    "plt.plot(val_losses, label='Validation Loss')\n",
    "plt.xlabel('Epoch')\n",
    "plt.ylabel('Loss')\n",
    "plt.legend()\n",
    "plt.show()"
   ]
  },
  {
   "cell_type": "code",
   "execution_count": null,
   "metadata": {},
   "outputs": [],
   "source": [
    "# DI metric function\n",
    "def compute_DI_metric(model, test_loader):\n",
    "    model.eval()\n",
    "    S_0_preds = []\n",
    "    S_1_preds = []\n",
    "    \n",
    "    with torch.no_grad():\n",
    "        for images, labels, S in test_loader:\n",
    "            images = images.to(device)\n",
    "            outputs = model(images)\n",
    "            _, preds = torch.max(outputs, 1)\n",
    "            \n",
    "            S_0_preds.extend(preds[S == 0].cpu().numpy())\n",
    "            S_1_preds.extend(preds[S == 1].cpu().numpy())\n",
    "    \n",
    "    P_y1_S0 = np.mean(np.array(S_0_preds) == 1)\n",
    "    P_y1_S1 = np.mean(np.array(S_1_preds) == 1)\n",
    "    \n",
    "    DI = P_y1_S0 / P_y1_S1 if P_y1_S1 != 0 else float('inf')\n",
    "    return DI"
   ]
  },
  {
   "cell_type": "markdown",
   "metadata": {},
   "source": [
    "#### 3.1.2 Model Bias Evaluation\n",
    "\n",
    "We compare two different settings :\n",
    "\n",
    "- $\\textit{model}_1$ is trained on the unaltered ImageNet dataset\n",
    "\n",
    "- $\\textit{model}_2$ is trained on the biased version of ImageNet (where we append the biased variables ε to the images in a separate channel)\n",
    " \n",
    "We finally compare the actual bias in both $\\textit{model}_1$ and $\\textit{model}_2$.\n",
    "\n",
    "Assume $\\hat{y}$ is the prediction of a model based on $\\tilde{x}$. We shall separate the dataset set into $2$ groups, one with $S = 0$, the other with $S = 1$. The bias of this model can be computed from a ratio of these two groups, using the $\\underline{\\text{DI metric}}$ defined as :\n",
    "$$\n",
    "DI = \\frac{P(\\hat{y} = 1 | S = 0)}{P(\\hat{y} = 1 | S = 1)}.\n",
    "$$\n",
    "\n",
    "In practice, a model is considered unbiased as long as the DI metric is close to $1$."
   ]
  },
  {
   "cell_type": "markdown",
   "metadata": {},
   "source": [
    "**Question 2** : Study experimentally if $\\textit{model}_2$ is biased or not on the test data. Compare you results to what you have with $\\textit{model}_1$."
   ]
  },
  {
   "cell_type": "markdown",
   "metadata": {},
   "source": [
    "**Question 3** : Compare the accuracy scores on your test data for both $\\textit{model}_1$ and $\\textit{model}_2$ for the binary classification task."
   ]
  },
  {
   "cell_type": "markdown",
   "metadata": {},
   "source": [
    "**Question 4** : What can you conclude from the two previous questions ?"
   ]
  },
  {
   "cell_type": "code",
   "execution_count": null,
   "metadata": {},
   "outputs": [],
   "source": []
  }
 ],
 "metadata": {
  "kernelspec": {
   "display_name": "Python 3",
   "language": "python",
   "name": "python3"
  },
  "language_info": {
   "codemirror_mode": {
    "name": "ipython",
    "version": 3
   },
   "file_extension": ".py",
   "mimetype": "text/x-python",
   "name": "python",
   "nbconvert_exporter": "python",
   "pygments_lexer": "ipython3",
   "version": "3.10.13"
  }
 },
 "nbformat": 4,
 "nbformat_minor": 2
}
