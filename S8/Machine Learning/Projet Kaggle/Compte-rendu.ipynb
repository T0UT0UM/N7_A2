{
 "cells": [
  {
   "cell_type": "markdown",
   "metadata": {},
   "source": [
    "# Kaggle Project\n",
    "\n",
    "Deep learning models are widely used for image classification. The goal of this project is to compare state-of-the-art models on a subset of ImageNet dataset.\n",
    "\n",
    "The link of the project is : https://www.kaggle.com/competitions/modia-ml-2024/overview\n",
    "\n",
    "**Notice** : You should upload a report, together with your code to Moodle, for the validation of the course. Do not copy-paste other people’s report or code.\n",
    "\n",
    "**Due** : 27 Juin 2024."
   ]
  },
  {
   "cell_type": "markdown",
   "metadata": {},
   "source": [
    "## 1 Learn how to use Pytorch\n",
    "\n",
    "Refer to the website https://pytorch.org/tutorials/beginner/basics/intro.html."
   ]
  },
  {
   "cell_type": "markdown",
   "metadata": {},
   "source": [
    "## 2 Train state-of-the-art CNN models\n",
    "\n",
    "The goal is to achieve a good classification accuracy on the test dataset, using Pytorch.\n",
    "\n",
    " - Implement one or two models from the following list :\n",
    "    - LeNet Model [1]\n",
    "    - AlexNet Model [2]\n",
    "    - ResNet Model [3]\n",
    "\n",
    " - In your report, you should give a precise definition of the model which you use, e.g. the number of layers and the type of each layer in CNN.\n",
    "\n",
    " - Pre-process your images in black and white\n",
    "\n",
    " - Pre-process your images so that they have the same input size to your model, e.g. use data augmentation.\n",
    "\n",
    " - Train your model using mini-batch SGD. Specify the optimization method which you use and report the total training time. To reduce the training time, you may use a GPU card.\n",
    "\n",
    " - Perform your parameter turning on a validation set to avoid over-fitting. Summarize your results in table/figure."
   ]
  },
  {
   "cell_type": "code",
   "execution_count": 1,
   "metadata": {},
   "outputs": [
    {
     "name": "stdout",
     "output_type": "stream",
     "text": [
      "Device: cuda\n",
      "GPUStatCollection(host=n7student, [\n",
      "  [0] NVIDIA RTX A500 Laptop GPU | 57°C,   0 % |     9 /  4096 MB | root(4M)\n",
      "])\n"
     ]
    }
   ],
   "source": [
    "# Imports\n",
    "import matplotlib.pyplot as plt\n",
    "import torch\n",
    "import torch.nn as nn\n",
    "import torchvision\n",
    "import pandas as pd\n",
    "import numpy as np\n",
    "import torchvision.transforms as transforms\n",
    "import torch.nn.functional as F\n",
    "from torch.utils.data import Dataset, DataLoader, random_split\n",
    "from PIL import Image\n",
    "import os\n",
    "import tqdm\n",
    "from tqdm.auto import tqdm\n",
    "import gpustat\n",
    "\n",
    "\n",
    "# Device configuration\n",
    "device = torch.device('cuda' if torch.cuda.is_available() else 'cpu')\n",
    "print(f'Device: {device}')\n",
    "gpu_stats = gpustat.new_query()\n",
    "print(gpu_stats)\n",
    "\n",
    "#device = torch.device('cpu')"
   ]
  },
  {
   "cell_type": "code",
   "execution_count": 2,
   "metadata": {},
   "outputs": [],
   "source": [
    "# Create a Train Dataset\n",
    "class TrainDataset(Dataset):\n",
    "    def __init__(self, labels_file, im_dir, transform=None):\n",
    "        self.img_labels = pd.read_csv(labels_file)\n",
    "        self.img_dir = im_dir\n",
    "        self.transform = transform\n",
    "        \n",
    "    def __len__(self):\n",
    "        return len(self.img_labels)\n",
    "    \n",
    "    def __getitem__(self, idx):\n",
    "        img_path = os.path.join(self.img_dir, str(self.img_labels.iloc[idx, 0]) + \".jpg\")\n",
    "        image = Image.open(img_path).convert(\"RGB\")\n",
    "        label = self.img_labels.iloc[idx, 1] - 1\n",
    "        if self.transform:\n",
    "            image = self.transform(image)\n",
    "        return image, label\n",
    "\n",
    "# Create a Test Dataset\n",
    "class TestDataset(Dataset):\n",
    "    def __init__(self, im_dir, transform=None):\n",
    "        self.img_dir = im_dir\n",
    "        self.transform = transform\n",
    "        \n",
    "    def __len__(self):\n",
    "        return len(os.listdir(self.img_dir))\n",
    "    \n",
    "    def __getitem__(self, idx):\n",
    "        img_path = os.path.join(self.img_dir, str(idx + 4000) + \".jpg\")\n",
    "        image = Image.open(img_path).convert(\"RGB\")\n",
    "        if self.transform:\n",
    "            image = self.transform(image)\n",
    "        return image"
   ]
  },
  {
   "cell_type": "code",
   "execution_count": 3,
   "metadata": {},
   "outputs": [],
   "source": [
    "# Image transformations\n",
    "IMAGE_SIZE = 256\n",
    "transform = transforms.Compose([\n",
    "    # Preprocess in black and white, and same size\n",
    "    transforms.Grayscale(num_output_channels=1),\n",
    "    transforms.CenterCrop(IMAGE_SIZE),\n",
    "    \n",
    "    # Data augmentation\n",
    "    transforms.RandomHorizontalFlip(),\n",
    "    transforms.RandomVerticalFlip(),\n",
    "    transforms.RandomRotation(10),\n",
    "    \n",
    "    transforms.ToTensor(),\n",
    "    transforms.Normalize(mean=0.5,std=0.5)\n",
    "])\n",
    "\n",
    "# Data paths\n",
    "label_path = './train.csv'\n",
    "train_dir = './train/'\n",
    "test_dir = './test/'\n",
    "\n",
    "# Dataset\n",
    "train_dataset = TrainDataset(labels_file=label_path, im_dir=train_dir, transform=transform)\n",
    "test_dataset = TestDataset(im_dir=test_dir, transform=transform)"
   ]
  },
  {
   "cell_type": "code",
   "execution_count": 4,
   "metadata": {},
   "outputs": [],
   "source": [
    "# Création du modèle LeNet\n",
    "class LeNet(nn.Module):\n",
    "    def __init__(self, num_channels=1, num_classes=4):\n",
    "        super(LeNet, self).__init__()\n",
    "        self.conv1 = nn.Conv2d(num_channels, 6, kernel_size=5, padding=2)\n",
    "        self.conv2 = nn.Conv2d(6, 16, kernel_size=5)\n",
    "        self.fc1   = nn.Linear(62*62*16, 120)\n",
    "        self.fc2   = nn.Linear(120, 84)\n",
    "        self.fc3   = nn.Linear(84, num_classes)\n",
    "    \n",
    "    def forward(self, x):\n",
    "        x = F.max_pool2d(F.relu(self.conv1(x)), kernel_size=(2, 2), stride=2)\n",
    "        x = F.max_pool2d(F.relu(self.conv2(x)), kernel_size=(2, 2), stride=2)\n",
    "        x = nn.Flatten()(x)\n",
    "        x = F.relu(self.fc1(x))\n",
    "        x = F.relu(self.fc2(x))\n",
    "        x = self.fc3(x)\n",
    "        return x"
   ]
  },
  {
   "cell_type": "code",
   "execution_count": 5,
   "metadata": {},
   "outputs": [],
   "source": [
    "# Création du modèle ResNet\n",
    "class ResNet(nn.Module):\n",
    "    def __init__(self, num_channels=1, num_classes=4):\n",
    "        super(ResNet, self).__init__()\n",
    "        self.resnet = torchvision.models.resnet18(pretrained=False)\n",
    "        self.resnet.conv1 = nn.Conv2d(num_channels, 64, kernel_size=7, stride=2, padding=3, bias=False)\n",
    "        self.resnet.fc = nn.Linear(512, num_classes)\n",
    "    \n",
    "    def forward(self, x):\n",
    "        return self.resnet(x)"
   ]
  },
  {
   "cell_type": "code",
   "execution_count": 6,
   "metadata": {},
   "outputs": [
    {
     "name": "stderr",
     "output_type": "stream",
     "text": [
      "/home/felix/miniforge3/envs/optim/lib/python3.10/site-packages/torchvision/models/_utils.py:208: UserWarning: The parameter 'pretrained' is deprecated since 0.13 and may be removed in the future, please use 'weights' instead.\n",
      "  warnings.warn(\n",
      "/home/felix/miniforge3/envs/optim/lib/python3.10/site-packages/torchvision/models/_utils.py:223: UserWarning: Arguments other than a weight enum or `None` for 'weights' are deprecated since 0.13 and may be removed in the future. The current behavior is equivalent to passing `weights=None`.\n",
      "  warnings.warn(msg)\n"
     ]
    }
   ],
   "source": [
    "# Hyperparameters\n",
    "num_classes = 4\n",
    "num_epochs = 20\n",
    "batch_size = 32\n",
    "learning_rate = 0.01\n",
    "train_size = len(train_dataset)*0.8\n",
    "\n",
    "#model = LeNet(num_classes=num_classes)\n",
    "model = ResNet(num_classes=num_classes)\n",
    "\n",
    "# Loss and optimizer\n",
    "criterion = nn.CrossEntropyLoss()\n",
    "optimizer = torch.optim.SGD(model.parameters(), lr=learning_rate, weight_decay = 0.001, momentum = 0.9)\n",
    "scheduler = torch.optim.lr_scheduler.StepLR(optimizer, step_size=5)\n",
    "\n",
    "# Splitting the dataset\n",
    "train_dataset, val_dataset = random_split(train_dataset, [int(train_size), len(train_dataset)-int(train_size)])\n",
    "\n",
    "# Data loaders\n",
    "train_loader = DataLoader(dataset=train_dataset, batch_size=batch_size, shuffle=True)\n",
    "val_loader = DataLoader(dataset=val_dataset, batch_size=batch_size, shuffle=True)\n",
    "test_loader = DataLoader(dataset=test_dataset, batch_size=batch_size, shuffle=False)"
   ]
  },
  {
   "cell_type": "code",
   "execution_count": 7,
   "metadata": {},
   "outputs": [],
   "source": [
    "# Training function\n",
    "def train(model, criterion, optimizer, train_loader):\n",
    "    model.to(device)\n",
    "    model.train()\n",
    "    \n",
    "    train_losses = []\n",
    "    train_acc = []\n",
    "    \n",
    "    with tqdm(total=len(train_loader), desc=\"Training\", unit=\"batch\") as pbar:\n",
    "        for i, data in enumerate(train_loader):\n",
    "            image = data[0].to(device)\n",
    "            label = data[1].to(device)\n",
    "            \n",
    "            # Forward pass\n",
    "            output = model(image)\n",
    "            loss_value = criterion(output, label)\n",
    "            train_losses.append(loss_value.item())\n",
    "            \n",
    "            # Calculate softmax and accuracy\n",
    "            soft_output = torch.nn.functional.softmax(output, dim=1)\n",
    "            _, predicted = torch.max(soft_output, 1)\n",
    "            correct = (predicted == label).sum().item()\n",
    "            accuracy = correct / label.size(0)\n",
    "            train_acc.append(accuracy)\n",
    "\n",
    "            # Update progress bar\n",
    "            loss_cur = loss_value.item()\n",
    "            current = i * len(image) + len(image)\n",
    "            acc_cur = np.mean(train_acc)\n",
    "            pbar.set_postfix(loss=f\"{loss_cur:.7f}\", current=f\"{current}/{len(train_loader.dataset)}\", accuracy=f\"{acc_cur:.7f}\")\n",
    "\n",
    "            # Backward and optimize\n",
    "            optimizer.zero_grad()\n",
    "            loss_value.backward()\n",
    "            optimizer.step()\n",
    "            \n",
    "            pbar.update(1)\n",
    "\n",
    "    return np.mean(train_losses), np.mean(train_acc)\n",
    "\n",
    "\n",
    "# Validation function\n",
    "def validate(model, criterion, val_loader):\n",
    "    model.eval()\n",
    "    \n",
    "    val_losses = []\n",
    "    val_acc = []\n",
    "    \n",
    "    with tqdm(total=len(val_loader), desc=\"Validation\", unit=\"batch\") as pbar:\n",
    "        with torch.no_grad():\n",
    "            for data in val_loader:\n",
    "                images = data[0].to(device)\n",
    "                labels = data[1].to(device)\n",
    "                \n",
    "                # Forward pass\n",
    "                outputs = model(images)\n",
    "                loss = criterion(outputs, labels)\n",
    "                val_losses.append(loss.item())\n",
    "                \n",
    "                # Compute accuracy\n",
    "                _, argmax = torch.max(outputs, 1)\n",
    "                accuracy = (labels == argmax).float().mean()\n",
    "                val_acc.append(accuracy.cpu().numpy())\n",
    "        \n",
    "                pbar.update(1)\n",
    "                       \n",
    "    return np.mean(val_losses), np.mean(val_acc)\n",
    "\n",
    "\n",
    "# Test function\n",
    "test_loader = DataLoader(dataset=test_dataset, batch_size=batch_size, shuffle=False)\n",
    "def test(model, test_loader):\n",
    "    model.eval()\n",
    "    \n",
    "    preds = []\n",
    "    \n",
    "    with torch.no_grad():\n",
    "        for images in test_loader:\n",
    "            images = images.to(device)\n",
    "            \n",
    "            # Forward pass\n",
    "            outputs = model(images)\n",
    "            \n",
    "            # Get predicted labels\n",
    "            _, predicted = torch.max(outputs, 1)\n",
    "            preds.extend(predicted.cpu().numpy())\n",
    "    \n",
    "    return preds"
   ]
  },
  {
   "cell_type": "code",
   "execution_count": 8,
   "metadata": {},
   "outputs": [
    {
     "name": "stdout",
     "output_type": "stream",
     "text": [
      "Epoch 1 of 20\n"
     ]
    },
    {
     "data": {
      "application/vnd.jupyter.widget-view+json": {
       "model_id": "e371291eefbb48e384ad9b32d707e609",
       "version_major": 2,
       "version_minor": 0
      },
      "text/plain": [
       "Training:   0%|          | 0/100 [00:00<?, ?batch/s]"
      ]
     },
     "metadata": {},
     "output_type": "display_data"
    },
    {
     "data": {
      "application/vnd.jupyter.widget-view+json": {
       "model_id": "5e18af21ac684bb1a75b7c427d0e2709",
       "version_major": 2,
       "version_minor": 0
      },
      "text/plain": [
       "Validation:   0%|          | 0/25 [00:00<?, ?batch/s]"
      ]
     },
     "metadata": {},
     "output_type": "display_data"
    },
    {
     "name": "stdout",
     "output_type": "stream",
     "text": [
      "Train accuracy: 39.59%, Validation accuracy: 33.13%\n",
      "-----------------------------------\n",
      "\n",
      "Epoch 2 of 20\n"
     ]
    },
    {
     "data": {
      "application/vnd.jupyter.widget-view+json": {
       "model_id": "cd151535b03d42d396323e7de00d890f",
       "version_major": 2,
       "version_minor": 0
      },
      "text/plain": [
       "Training:   0%|          | 0/100 [00:00<?, ?batch/s]"
      ]
     },
     "metadata": {},
     "output_type": "display_data"
    },
    {
     "data": {
      "application/vnd.jupyter.widget-view+json": {
       "model_id": "5e7bace85ff4422ba825befb4a3076a8",
       "version_major": 2,
       "version_minor": 0
      },
      "text/plain": [
       "Validation:   0%|          | 0/25 [00:00<?, ?batch/s]"
      ]
     },
     "metadata": {},
     "output_type": "display_data"
    },
    {
     "name": "stdout",
     "output_type": "stream",
     "text": [
      "Train accuracy: 50.53%, Validation accuracy: 49.63%\n",
      "-----------------------------------\n",
      "\n",
      "Epoch 3 of 20\n"
     ]
    },
    {
     "data": {
      "application/vnd.jupyter.widget-view+json": {
       "model_id": "ad02d903c0f043c09a69075ac50dfad6",
       "version_major": 2,
       "version_minor": 0
      },
      "text/plain": [
       "Training:   0%|          | 0/100 [00:00<?, ?batch/s]"
      ]
     },
     "metadata": {},
     "output_type": "display_data"
    },
    {
     "data": {
      "application/vnd.jupyter.widget-view+json": {
       "model_id": "ef7200410b6e48d5be40fbeadb2afc35",
       "version_major": 2,
       "version_minor": 0
      },
      "text/plain": [
       "Validation:   0%|          | 0/25 [00:00<?, ?batch/s]"
      ]
     },
     "metadata": {},
     "output_type": "display_data"
    },
    {
     "name": "stdout",
     "output_type": "stream",
     "text": [
      "Train accuracy: 52.31%, Validation accuracy: 53.12%\n",
      "-----------------------------------\n",
      "\n",
      "Epoch 4 of 20\n"
     ]
    },
    {
     "data": {
      "application/vnd.jupyter.widget-view+json": {
       "model_id": "1e037371ad774fb8ae29fb1ec324fbd2",
       "version_major": 2,
       "version_minor": 0
      },
      "text/plain": [
       "Training:   0%|          | 0/100 [00:00<?, ?batch/s]"
      ]
     },
     "metadata": {},
     "output_type": "display_data"
    },
    {
     "data": {
      "application/vnd.jupyter.widget-view+json": {
       "model_id": "c33f002297f34ec9bbf936a2331e0719",
       "version_major": 2,
       "version_minor": 0
      },
      "text/plain": [
       "Validation:   0%|          | 0/25 [00:00<?, ?batch/s]"
      ]
     },
     "metadata": {},
     "output_type": "display_data"
    },
    {
     "name": "stdout",
     "output_type": "stream",
     "text": [
      "Train accuracy: 56.69%, Validation accuracy: 41.75%\n",
      "-----------------------------------\n",
      "\n",
      "Epoch 5 of 20\n"
     ]
    },
    {
     "data": {
      "application/vnd.jupyter.widget-view+json": {
       "model_id": "cd7d3e2528d242ceb6962bbb27a9c4fa",
       "version_major": 2,
       "version_minor": 0
      },
      "text/plain": [
       "Training:   0%|          | 0/100 [00:00<?, ?batch/s]"
      ]
     },
     "metadata": {},
     "output_type": "display_data"
    },
    {
     "data": {
      "application/vnd.jupyter.widget-view+json": {
       "model_id": "f88a77d25cac40059ad5f0e0d8bf99fa",
       "version_major": 2,
       "version_minor": 0
      },
      "text/plain": [
       "Validation:   0%|          | 0/25 [00:00<?, ?batch/s]"
      ]
     },
     "metadata": {},
     "output_type": "display_data"
    },
    {
     "name": "stdout",
     "output_type": "stream",
     "text": [
      "Train accuracy: 58.00%, Validation accuracy: 53.12%\n",
      "-----------------------------------\n",
      "\n",
      "Epoch 6 of 20\n"
     ]
    },
    {
     "data": {
      "application/vnd.jupyter.widget-view+json": {
       "model_id": "8df7164852dd4d0cb51061effae20d2d",
       "version_major": 2,
       "version_minor": 0
      },
      "text/plain": [
       "Training:   0%|          | 0/100 [00:00<?, ?batch/s]"
      ]
     },
     "metadata": {},
     "output_type": "display_data"
    },
    {
     "data": {
      "application/vnd.jupyter.widget-view+json": {
       "model_id": "026e2cc6d0bb4b7e932696a9ab719772",
       "version_major": 2,
       "version_minor": 0
      },
      "text/plain": [
       "Validation:   0%|          | 0/25 [00:00<?, ?batch/s]"
      ]
     },
     "metadata": {},
     "output_type": "display_data"
    },
    {
     "name": "stdout",
     "output_type": "stream",
     "text": [
      "Train accuracy: 64.66%, Validation accuracy: 63.13%\n",
      "-----------------------------------\n",
      "\n",
      "Epoch 7 of 20\n"
     ]
    },
    {
     "data": {
      "application/vnd.jupyter.widget-view+json": {
       "model_id": "18d047860f3640039682963a54894ccd",
       "version_major": 2,
       "version_minor": 0
      },
      "text/plain": [
       "Training:   0%|          | 0/100 [00:00<?, ?batch/s]"
      ]
     },
     "metadata": {},
     "output_type": "display_data"
    },
    {
     "data": {
      "application/vnd.jupyter.widget-view+json": {
       "model_id": "5a4871a1c2d843918f2e89833e11dd9c",
       "version_major": 2,
       "version_minor": 0
      },
      "text/plain": [
       "Validation:   0%|          | 0/25 [00:00<?, ?batch/s]"
      ]
     },
     "metadata": {},
     "output_type": "display_data"
    },
    {
     "name": "stdout",
     "output_type": "stream",
     "text": [
      "Train accuracy: 67.09%, Validation accuracy: 65.38%\n",
      "-----------------------------------\n",
      "\n",
      "Epoch 8 of 20\n"
     ]
    },
    {
     "data": {
      "application/vnd.jupyter.widget-view+json": {
       "model_id": "cd3de66958f643dd8a838a68550aa9ac",
       "version_major": 2,
       "version_minor": 0
      },
      "text/plain": [
       "Training:   0%|          | 0/100 [00:00<?, ?batch/s]"
      ]
     },
     "metadata": {},
     "output_type": "display_data"
    },
    {
     "data": {
      "application/vnd.jupyter.widget-view+json": {
       "model_id": "4bd0a8b49c6b49f7bb1eeb8fdc565d74",
       "version_major": 2,
       "version_minor": 0
      },
      "text/plain": [
       "Validation:   0%|          | 0/25 [00:00<?, ?batch/s]"
      ]
     },
     "metadata": {},
     "output_type": "display_data"
    },
    {
     "name": "stdout",
     "output_type": "stream",
     "text": [
      "Train accuracy: 68.34%, Validation accuracy: 63.63%\n",
      "-----------------------------------\n",
      "\n",
      "Epoch 9 of 20\n"
     ]
    },
    {
     "data": {
      "application/vnd.jupyter.widget-view+json": {
       "model_id": "f9a037b3054e4788af6fbc945aaa6cf6",
       "version_major": 2,
       "version_minor": 0
      },
      "text/plain": [
       "Training:   0%|          | 0/100 [00:00<?, ?batch/s]"
      ]
     },
     "metadata": {},
     "output_type": "display_data"
    },
    {
     "data": {
      "application/vnd.jupyter.widget-view+json": {
       "model_id": "b6d5ea4514b942f2bd7bf41127769d69",
       "version_major": 2,
       "version_minor": 0
      },
      "text/plain": [
       "Validation:   0%|          | 0/25 [00:00<?, ?batch/s]"
      ]
     },
     "metadata": {},
     "output_type": "display_data"
    },
    {
     "name": "stdout",
     "output_type": "stream",
     "text": [
      "Train accuracy: 68.00%, Validation accuracy: 69.25%\n",
      "-----------------------------------\n",
      "\n",
      "Epoch 10 of 20\n"
     ]
    },
    {
     "data": {
      "application/vnd.jupyter.widget-view+json": {
       "model_id": "722be56dc7d140ffb2dc8541286848f9",
       "version_major": 2,
       "version_minor": 0
      },
      "text/plain": [
       "Training:   0%|          | 0/100 [00:00<?, ?batch/s]"
      ]
     },
     "metadata": {},
     "output_type": "display_data"
    },
    {
     "data": {
      "application/vnd.jupyter.widget-view+json": {
       "model_id": "dd9461bdde6845bb8d3578a170e34322",
       "version_major": 2,
       "version_minor": 0
      },
      "text/plain": [
       "Validation:   0%|          | 0/25 [00:00<?, ?batch/s]"
      ]
     },
     "metadata": {},
     "output_type": "display_data"
    },
    {
     "name": "stdout",
     "output_type": "stream",
     "text": [
      "Train accuracy: 69.16%, Validation accuracy: 68.25%\n",
      "-----------------------------------\n",
      "\n",
      "Epoch 11 of 20\n"
     ]
    },
    {
     "data": {
      "application/vnd.jupyter.widget-view+json": {
       "model_id": "974b90e56e26462787b7f3b6fc715a69",
       "version_major": 2,
       "version_minor": 0
      },
      "text/plain": [
       "Training:   0%|          | 0/100 [00:00<?, ?batch/s]"
      ]
     },
     "metadata": {},
     "output_type": "display_data"
    },
    {
     "data": {
      "application/vnd.jupyter.widget-view+json": {
       "model_id": "15a2e46fc989497d945f0ea7a2c61c15",
       "version_major": 2,
       "version_minor": 0
      },
      "text/plain": [
       "Validation:   0%|          | 0/25 [00:00<?, ?batch/s]"
      ]
     },
     "metadata": {},
     "output_type": "display_data"
    },
    {
     "name": "stdout",
     "output_type": "stream",
     "text": [
      "Train accuracy: 69.66%, Validation accuracy: 68.37%\n",
      "-----------------------------------\n",
      "\n",
      "Epoch 12 of 20\n"
     ]
    },
    {
     "data": {
      "application/vnd.jupyter.widget-view+json": {
       "model_id": "fc9d364e992d40228aab752a8c30cf1c",
       "version_major": 2,
       "version_minor": 0
      },
      "text/plain": [
       "Training:   0%|          | 0/100 [00:00<?, ?batch/s]"
      ]
     },
     "metadata": {},
     "output_type": "display_data"
    },
    {
     "data": {
      "application/vnd.jupyter.widget-view+json": {
       "model_id": "a2caffae74924dd6a147629001ccb983",
       "version_major": 2,
       "version_minor": 0
      },
      "text/plain": [
       "Validation:   0%|          | 0/25 [00:00<?, ?batch/s]"
      ]
     },
     "metadata": {},
     "output_type": "display_data"
    },
    {
     "name": "stdout",
     "output_type": "stream",
     "text": [
      "Train accuracy: 69.22%, Validation accuracy: 69.00%\n",
      "-----------------------------------\n",
      "\n",
      "Epoch 13 of 20\n"
     ]
    },
    {
     "data": {
      "application/vnd.jupyter.widget-view+json": {
       "model_id": "41bc7d45ab7f41358f722ce2214b341d",
       "version_major": 2,
       "version_minor": 0
      },
      "text/plain": [
       "Training:   0%|          | 0/100 [00:00<?, ?batch/s]"
      ]
     },
     "metadata": {},
     "output_type": "display_data"
    },
    {
     "data": {
      "application/vnd.jupyter.widget-view+json": {
       "model_id": "d0c38ee5c47a458a9abe9fb9a674c251",
       "version_major": 2,
       "version_minor": 0
      },
      "text/plain": [
       "Validation:   0%|          | 0/25 [00:00<?, ?batch/s]"
      ]
     },
     "metadata": {},
     "output_type": "display_data"
    },
    {
     "name": "stdout",
     "output_type": "stream",
     "text": [
      "Train accuracy: 70.25%, Validation accuracy: 68.62%\n",
      "-----------------------------------\n",
      "\n",
      "Epoch 14 of 20\n"
     ]
    },
    {
     "data": {
      "application/vnd.jupyter.widget-view+json": {
       "model_id": "54f3bc08575a4a2eb6f8207fb66b65df",
       "version_major": 2,
       "version_minor": 0
      },
      "text/plain": [
       "Training:   0%|          | 0/100 [00:00<?, ?batch/s]"
      ]
     },
     "metadata": {},
     "output_type": "display_data"
    },
    {
     "data": {
      "application/vnd.jupyter.widget-view+json": {
       "model_id": "61c554404242435b9e8be0c38277bed2",
       "version_major": 2,
       "version_minor": 0
      },
      "text/plain": [
       "Validation:   0%|          | 0/25 [00:00<?, ?batch/s]"
      ]
     },
     "metadata": {},
     "output_type": "display_data"
    },
    {
     "name": "stdout",
     "output_type": "stream",
     "text": [
      "Train accuracy: 70.12%, Validation accuracy: 68.62%\n",
      "-----------------------------------\n",
      "\n",
      "Epoch 15 of 20\n"
     ]
    },
    {
     "data": {
      "application/vnd.jupyter.widget-view+json": {
       "model_id": "4c0ff8b67d0047f690398b31acebd6da",
       "version_major": 2,
       "version_minor": 0
      },
      "text/plain": [
       "Training:   0%|          | 0/100 [00:00<?, ?batch/s]"
      ]
     },
     "metadata": {},
     "output_type": "display_data"
    },
    {
     "data": {
      "application/vnd.jupyter.widget-view+json": {
       "model_id": "0664b82ddce84f7ca4a29bda709be999",
       "version_major": 2,
       "version_minor": 0
      },
      "text/plain": [
       "Validation:   0%|          | 0/25 [00:00<?, ?batch/s]"
      ]
     },
     "metadata": {},
     "output_type": "display_data"
    },
    {
     "name": "stdout",
     "output_type": "stream",
     "text": [
      "Train accuracy: 71.12%, Validation accuracy: 70.63%\n",
      "-----------------------------------\n",
      "\n",
      "Epoch 16 of 20\n"
     ]
    },
    {
     "data": {
      "application/vnd.jupyter.widget-view+json": {
       "model_id": "21895dd84eee41a4a6a78b89a97c3c7b",
       "version_major": 2,
       "version_minor": 0
      },
      "text/plain": [
       "Training:   0%|          | 0/100 [00:00<?, ?batch/s]"
      ]
     },
     "metadata": {},
     "output_type": "display_data"
    },
    {
     "data": {
      "application/vnd.jupyter.widget-view+json": {
       "model_id": "3053e902beb74a5b830afa2e20fba833",
       "version_major": 2,
       "version_minor": 0
      },
      "text/plain": [
       "Validation:   0%|          | 0/25 [00:00<?, ?batch/s]"
      ]
     },
     "metadata": {},
     "output_type": "display_data"
    },
    {
     "name": "stdout",
     "output_type": "stream",
     "text": [
      "Train accuracy: 70.66%, Validation accuracy: 69.50%\n",
      "-----------------------------------\n",
      "\n",
      "Epoch 17 of 20\n"
     ]
    },
    {
     "data": {
      "application/vnd.jupyter.widget-view+json": {
       "model_id": "bbbc9fd1333c4e0f94dc9cf2182e17b8",
       "version_major": 2,
       "version_minor": 0
      },
      "text/plain": [
       "Training:   0%|          | 0/100 [00:00<?, ?batch/s]"
      ]
     },
     "metadata": {},
     "output_type": "display_data"
    },
    {
     "data": {
      "application/vnd.jupyter.widget-view+json": {
       "model_id": "05a9de18f0bb47a1b74f5841253d4d96",
       "version_major": 2,
       "version_minor": 0
      },
      "text/plain": [
       "Validation:   0%|          | 0/25 [00:00<?, ?batch/s]"
      ]
     },
     "metadata": {},
     "output_type": "display_data"
    },
    {
     "name": "stdout",
     "output_type": "stream",
     "text": [
      "Train accuracy: 71.59%, Validation accuracy: 69.25%\n",
      "-----------------------------------\n",
      "\n",
      "Epoch 18 of 20\n"
     ]
    },
    {
     "data": {
      "application/vnd.jupyter.widget-view+json": {
       "model_id": "bfca6e801e3a431db1c69b6ff39cd832",
       "version_major": 2,
       "version_minor": 0
      },
      "text/plain": [
       "Training:   0%|          | 0/100 [00:00<?, ?batch/s]"
      ]
     },
     "metadata": {},
     "output_type": "display_data"
    },
    {
     "data": {
      "application/vnd.jupyter.widget-view+json": {
       "model_id": "ab76abf2d49d4a989801bce24e8a5c23",
       "version_major": 2,
       "version_minor": 0
      },
      "text/plain": [
       "Validation:   0%|          | 0/25 [00:00<?, ?batch/s]"
      ]
     },
     "metadata": {},
     "output_type": "display_data"
    },
    {
     "name": "stdout",
     "output_type": "stream",
     "text": [
      "Train accuracy: 71.31%, Validation accuracy: 69.50%\n",
      "-----------------------------------\n",
      "\n",
      "Epoch 19 of 20\n"
     ]
    },
    {
     "data": {
      "application/vnd.jupyter.widget-view+json": {
       "model_id": "7e9fec7a352f4464907a89cc447927c8",
       "version_major": 2,
       "version_minor": 0
      },
      "text/plain": [
       "Training:   0%|          | 0/100 [00:00<?, ?batch/s]"
      ]
     },
     "metadata": {},
     "output_type": "display_data"
    },
    {
     "data": {
      "application/vnd.jupyter.widget-view+json": {
       "model_id": "6cab08a21e2c4ab6a73fbf9018def239",
       "version_major": 2,
       "version_minor": 0
      },
      "text/plain": [
       "Validation:   0%|          | 0/25 [00:00<?, ?batch/s]"
      ]
     },
     "metadata": {},
     "output_type": "display_data"
    },
    {
     "name": "stdout",
     "output_type": "stream",
     "text": [
      "Train accuracy: 71.41%, Validation accuracy: 68.75%\n",
      "-----------------------------------\n",
      "\n",
      "Epoch 20 of 20\n"
     ]
    },
    {
     "data": {
      "application/vnd.jupyter.widget-view+json": {
       "model_id": "907570ce2e1742fc9fd07e49a902e926",
       "version_major": 2,
       "version_minor": 0
      },
      "text/plain": [
       "Training:   0%|          | 0/100 [00:00<?, ?batch/s]"
      ]
     },
     "metadata": {},
     "output_type": "display_data"
    },
    {
     "data": {
      "application/vnd.jupyter.widget-view+json": {
       "model_id": "bcbc89d7c7944b7084e0aeae4c5ce375",
       "version_major": 2,
       "version_minor": 0
      },
      "text/plain": [
       "Validation:   0%|          | 0/25 [00:00<?, ?batch/s]"
      ]
     },
     "metadata": {},
     "output_type": "display_data"
    },
    {
     "name": "stdout",
     "output_type": "stream",
     "text": [
      "Train accuracy: 72.06%, Validation accuracy: 69.13%\n",
      "-----------------------------------\n",
      "\n"
     ]
    },
    {
     "data": {
      "image/png": "[encoded data removed]",
      "text/plain": [
       "<Figure size 1000x700 with 1 Axes>"
      ]
     },
     "metadata": {},
     "output_type": "display_data"
    }
   ],
   "source": [
    "# Training loop\n",
    "train_losses = []\n",
    "val_losses = []\n",
    "train_acc = []\n",
    "val_acc = []\n",
    "\n",
    "for epoch in range(num_epochs):\n",
    "    print(f\"Epoch {epoch+1} of {num_epochs}\")\n",
    "    train_loss, train_accuracy = train(model, criterion, optimizer, train_loader)\n",
    "    val_loss, val_accuracy = validate(model, criterion, val_loader)\n",
    "    print(f\"Train accuracy: {train_accuracy*100:.2f}%, Validation accuracy: {val_accuracy*100:.2f}%\")\n",
    "    train_losses.append(train_loss)\n",
    "    val_losses.append(val_loss)\n",
    "    train_acc.append(train_accuracy)\n",
    "    val_acc.append(val_accuracy)\n",
    "    scheduler.step()\n",
    "    print(\"-----------------------------------\")\n",
    "    print()\n",
    "   \n",
    "torch.save(model.state_dict(), \"model\")\n",
    "\n",
    "# Plot loss\n",
    "plt.figure(figsize=(10, 7))\n",
    "plt.plot(train_losses, label='Train Loss')\n",
    "plt.plot(val_losses, label='Validation Loss')\n",
    "plt.xlabel('Epoch')\n",
    "plt.ylabel('Loss')\n",
    "plt.legend()\n",
    "plt.show()"
   ]
  },
  {
   "cell_type": "code",
   "execution_count": null,
   "metadata": {},
   "outputs": [],
   "source": [
    "# Predictions\n",
    "predictions = test(model, test_loader)\n",
    "\n",
    "# Save predictions\n",
    "submission = pd.DataFrame({'id': np.array(range(len(predictions))) + 4000,\n",
    "                           'Label': np.array(predictions) + 1})\n",
    "\n",
    "submission.to_csv('submission.csv', index=False)"
   ]
  },
  {
   "cell_type": "markdown",
   "metadata": {},
   "source": [
    "## 3 Machine learning and AI safety\n",
    "\n",
    "### 3.1 Bias introduction in ImageNet\n",
    "\n",
    "We try to understand how an image classification model (such as the ones trained in section 2) can be biased towards a specific outcome. To make things easier we consider the binary classification problem (2 classes).\n",
    "\n",
    "We propose to implement the following setup :\n",
    "\n",
    "#### 3.1.1 Biased Dataset Construction\n",
    "\n",
    "We decide to concatenate to each of our images $x$ from ImageNet a new set of variables $\\varepsilon$. As we shall specify, the second variable $\\varepsilon$ is a noise-like image, which is not directly computed from $x$. Yet, it introduces some bias as we choose the value of $\\varepsilon$ to be strongly correlated to the label ($0$ or $1$) of the images.\n",
    "\n",
    "More precisely, we assume $(\\tilde{x}, y) = ([x, \\varepsilon], y)$ is a random sample of the modified dataset.  \n",
    "We shall specify the value of $\\varepsilon$ using $y$. Let $p_0 \\in [0, 1], p_1 \\in [0, 1]$ be two probabilities.  \n",
    "Given $(\\tilde{x}, y)$, the bias variable $S$ is defined as\n",
    "$$\n",
    "S \\sim Bernoulli(p_k), \\quad \\text{ if } y = k, k \\in \\{0, 1\\}.\n",
    "$$\n",
    "\n",
    "Then, we choose $\\varepsilon$ according to $S$ as below :\n",
    "- $\\varepsilon = 0$ if $S = 0$.\n",
    "- $\\varepsilon \\sim \\mathcal{N}(0, \\sigma^2I)$ if $S = 1$.\n",
    "\n",
    "In the extreme case where $p_0 = 0$ and $p_1 = 1$, one can ignore the original image $x$ and only use $\\varepsilon$ to predict $y$. In that case, our predictions are never using the image $x$ and we are only relying on the noise-like $\\varepsilon$ that we introduced to the dataset.\n",
    "\n",
    "**Advice** : in Pytorch, we can build a biased dataset by simply adding the biased variables $\\varepsilon^{\\{i\\}}$ as a dedicated channel to the original images $x^{\\{i\\}}$ for each image index $i$."
   ]
  },
  {
   "cell_type": "markdown",
   "metadata": {},
   "source": [
    "**Question 1** : Build a biased dataset from ImageNet using the approach described in 3.1.1"
   ]
  },
  {
   "cell_type": "code",
   "execution_count": null,
   "metadata": {},
   "outputs": [],
   "source": [
    "# Create 2 classes\n",
    "label1 = 1 # choux\n",
    "label2 = 3 # choux-fleur\n",
    "label_biased_path = './train_biased.csv'\n",
    "\n",
    "# Create a csv file with the labels\n",
    "df = pd.read_csv('train.csv')\n",
    "df = df.loc[df['label'].isin([label1, label2])]\n",
    "df['label'] = df['label'].replace(label2, 2)\n",
    "df.to_csv(label_biased_path, index=False)"
   ]
  },
  {
   "cell_type": "code",
   "execution_count": null,
   "metadata": {},
   "outputs": [],
   "source": [
    "# Create a Biased Train Dataset\n",
    "class BiasedTrainDataset(Dataset):\n",
    "    def __init__(self, labels_file, img_dir, p0=0.5, p1=0.5, sigma=1.0, transform=None):\n",
    "        self.img_labels = pd.read_csv(labels_file)\n",
    "        self.img_dir = img_dir\n",
    "        self.transform = transform\n",
    "        self.p0 = p0\n",
    "        self.p1 = p1\n",
    "        self.sigma = sigma\n",
    "        \n",
    "        # Generate bias variable epsilon\n",
    "        self.biased_labels = []\n",
    "        for i in range(len(self.img_labels)):\n",
    "            label = self.img_labels.iloc[i, 1]\n",
    "            p = p1 if label == 1 else p0\n",
    "            S = np.random.binomial(1, p)\n",
    "            self.biased_labels.append(S)\n",
    "        \n",
    "        \n",
    "    def __len__(self):\n",
    "        return len(self.img_labels)\n",
    "    \n",
    "    def __getitem__(self, idx):\n",
    "        img_path = os.path.join(self.img_dir, str(self.img_labels.iloc[idx, 0]) + \".jpg\")\n",
    "        image = Image.open(img_path).convert(\"RGB\")\n",
    "        label = self.img_labels.iloc[idx, 1] -1\n",
    "        bias = self.biased_labels[idx]\n",
    "        \n",
    "        if self.transform:\n",
    "            image = self.transform(image)\n",
    "        \n",
    "        if bias == 0:\n",
    "            epsilon = torch.zeros_like(image)\n",
    "        else:\n",
    "            epsilon = torch.randn_like(image) * self.sigma\n",
    "        \n",
    "        biased_image = torch.cat((image, epsilon), dim=0)\n",
    "            \n",
    "        return biased_image, label, bias"
   ]
  },
  {
   "cell_type": "markdown",
   "metadata": {},
   "source": [
    "#### 3.1.2 Model Bias Evaluation\n",
    "\n",
    "We compare two different settings :\n",
    "\n",
    "- $\\textit{model}_1$ is trained on the unaltered ImageNet dataset\n",
    "\n",
    "- $\\textit{model}_2$ is trained on the biased version of ImageNet (where we append the biased variables ε to the images in a separate channel)\n",
    " \n",
    "We finally compare the actual bias in both $\\textit{model}_1$ and $\\textit{model}_2$.\n",
    "\n",
    "Assume $\\hat{y}$ is the prediction of a model based on $\\tilde{x}$. We shall separate the dataset set into $2$ groups, one with $S = 0$, the other with $S = 1$. The bias of this model can be computed from a ratio of these two groups, using the $\\underline{\\text{DI metric}}$ defined as :\n",
    "$$\n",
    "DI = \\frac{P(\\hat{y} = 1 | S = 0)}{P(\\hat{y} = 1 | S = 1)}.\n",
    "$$\n",
    "\n",
    "In practice, a model is considered unbiased as long as the DI metric is close to $1$."
   ]
  },
  {
   "cell_type": "code",
   "execution_count": null,
   "metadata": {},
   "outputs": [],
   "source": [
    "# Dataset\n",
    "unbiased_train_dataset = BiasedTrainDataset(labels_file=label_biased_path, img_dir=train_dir, transform=transform, p0=0.5, p1=0.5)\n",
    "biased_train_dataset = BiasedTrainDataset(labels_file=label_biased_path, img_dir=train_dir, transform=transform, p0=0.1, p1=0.9)"
   ]
  },
  {
   "cell_type": "code",
   "execution_count": null,
   "metadata": {},
   "outputs": [
    {
     "name": "stderr",
     "output_type": "stream",
     "text": [
      "/home/felix/miniforge3/envs/optim/lib/python3.10/site-packages/torchvision/models/_utils.py:208: UserWarning: The parameter 'pretrained' is deprecated since 0.13 and may be removed in the future, please use 'weights' instead.\n",
      "  warnings.warn(\n",
      "/home/felix/miniforge3/envs/optim/lib/python3.10/site-packages/torchvision/models/_utils.py:223: UserWarning: Arguments other than a weight enum or `None` for 'weights' are deprecated since 0.13 and may be removed in the future. The current behavior is equivalent to passing `weights=None`.\n",
      "  warnings.warn(msg)\n"
     ]
    }
   ],
   "source": [
    "# Hyperparameters\n",
    "num_classes = 2\n",
    "num_epochs = 10\n",
    "batch_size = 32\n",
    "learning_rate = 0.01\n",
    "train_size = len(unbiased_train_dataset)*0.8\n",
    "test_size = len(unbiased_train_dataset)*0.1\n",
    "\n",
    "#model = LeNet(num_classes=num_classes)\n",
    "model1 = ResNet(num_classes=num_classes, num_channels=2)\n",
    "model2 = ResNet(num_classes=num_classes, num_channels=2)\n",
    "\n",
    "# Loss and optimizer\n",
    "criterion1 = nn.CrossEntropyLoss()\n",
    "optimizer1 = torch.optim.SGD(model1.parameters(), lr=learning_rate, weight_decay = 0.001, momentum = 0.9)\n",
    "scheduler1 = torch.optim.lr_scheduler.StepLR(optimizer1, step_size=5)\n",
    "criterion2 = nn.CrossEntropyLoss()\n",
    "optimizer2 = torch.optim.SGD(model2.parameters(), lr=learning_rate, weight_decay = 0.001, momentum = 0.9)\n",
    "scheduler2 = torch.optim.lr_scheduler.StepLR(optimizer2, step_size=5)\n",
    "\n",
    "# Splitting the dataset\n",
    "unbiased_train_dataset, unbiased_test_dataset, unbiased_val_dataset = random_split(unbiased_train_dataset, [int(train_size), int(test_size), len(unbiased_train_dataset)-(int(train_size)+int(test_size))])\n",
    "biased_train_dataset, biased_test_dataset, biased_val_dataset = random_split(biased_train_dataset, [int(train_size), int(test_size), len(biased_train_dataset)-(int(train_size)+int(test_size))])\n",
    "\n",
    "# Data loaders\n",
    "unbiased_train_loader = DataLoader(dataset=unbiased_train_dataset, batch_size=batch_size, shuffle=True)\n",
    "unbiased_val_loader = DataLoader(dataset=unbiased_val_dataset, batch_size=batch_size, shuffle=True)\n",
    "unbiased_test_loader = DataLoader(dataset=unbiased_test_dataset, batch_size=batch_size, shuffle=False)\n",
    "biased_train_loader = DataLoader(dataset=biased_train_dataset, batch_size=batch_size, shuffle=True)\n",
    "biased_val_loader = DataLoader(dataset=biased_val_dataset, batch_size=batch_size, shuffle=True)\n",
    "biased_test_loader = DataLoader(dataset=biased_test_dataset, batch_size=batch_size, shuffle=False)"
   ]
  },
  {
   "cell_type": "code",
   "execution_count": null,
   "metadata": {},
   "outputs": [
    {
     "name": "stdout",
     "output_type": "stream",
     "text": [
      "Epoch 1 of 10\n"
     ]
    },
    {
     "data": {
      "application/vnd.jupyter.widget-view+json": {
       "model_id": "cd031a9b79b84dba81614a8ea16fc100",
       "version_major": 2,
       "version_minor": 0
      },
      "text/plain": [
       "Training:   0%|          | 0/50 [00:00<?, ?batch/s]"
      ]
     },
     "metadata": {},
     "output_type": "display_data"
    },
    {
     "data": {
      "application/vnd.jupyter.widget-view+json": {
       "model_id": "c99d3c24d3084009bcaba06341b36c46",
       "version_major": 2,
       "version_minor": 0
      },
      "text/plain": [
       "Validation:   0%|          | 0/7 [00:00<?, ?batch/s]"
      ]
     },
     "metadata": {},
     "output_type": "display_data"
    },
    {
     "name": "stdout",
     "output_type": "stream",
     "text": [
      "Val Loss: 0.9194, Val Acc: 53.95%\n",
      "-----------------------------------\n",
      "\n",
      "Epoch 2 of 10\n"
     ]
    },
    {
     "data": {
      "application/vnd.jupyter.widget-view+json": {
       "model_id": "43c0aed603694ff786b2d7dcb39aaab0",
       "version_major": 2,
       "version_minor": 0
      },
      "text/plain": [
       "Training:   0%|          | 0/50 [00:00<?, ?batch/s]"
      ]
     },
     "metadata": {},
     "output_type": "display_data"
    },
    {
     "data": {
      "application/vnd.jupyter.widget-view+json": {
       "model_id": "19d5f503898b479eb66fecc8b00cd8fb",
       "version_major": 2,
       "version_minor": 0
      },
      "text/plain": [
       "Validation:   0%|          | 0/7 [00:00<?, ?batch/s]"
      ]
     },
     "metadata": {},
     "output_type": "display_data"
    },
    {
     "name": "stdout",
     "output_type": "stream",
     "text": [
      "Val Loss: 0.6920, Val Acc: 52.81%\n",
      "-----------------------------------\n",
      "\n",
      "Epoch 3 of 10\n"
     ]
    },
    {
     "data": {
      "application/vnd.jupyter.widget-view+json": {
       "model_id": "a3ab4618e04d4371aabdbe01dbce117f",
       "version_major": 2,
       "version_minor": 0
      },
      "text/plain": [
       "Training:   0%|          | 0/50 [00:00<?, ?batch/s]"
      ]
     },
     "metadata": {},
     "output_type": "display_data"
    },
    {
     "data": {
      "application/vnd.jupyter.widget-view+json": {
       "model_id": "32fcb30233734df9b678ead8fd2dcd60",
       "version_major": 2,
       "version_minor": 0
      },
      "text/plain": [
       "Validation:   0%|          | 0/7 [00:00<?, ?batch/s]"
      ]
     },
     "metadata": {},
     "output_type": "display_data"
    },
    {
     "name": "stdout",
     "output_type": "stream",
     "text": [
      "Val Loss: 0.6904, Val Acc: 60.20%\n",
      "-----------------------------------\n",
      "\n",
      "Epoch 4 of 10\n"
     ]
    },
    {
     "data": {
      "application/vnd.jupyter.widget-view+json": {
       "model_id": "13a34510c0f64667a8292994efbf81c9",
       "version_major": 2,
       "version_minor": 0
      },
      "text/plain": [
       "Training:   0%|          | 0/50 [00:00<?, ?batch/s]"
      ]
     },
     "metadata": {},
     "output_type": "display_data"
    },
    {
     "data": {
      "application/vnd.jupyter.widget-view+json": {
       "model_id": "786e6673f06840dd9ca24e4b81ad8641",
       "version_major": 2,
       "version_minor": 0
      },
      "text/plain": [
       "Validation:   0%|          | 0/7 [00:00<?, ?batch/s]"
      ]
     },
     "metadata": {},
     "output_type": "display_data"
    },
    {
     "name": "stdout",
     "output_type": "stream",
     "text": [
      "Val Loss: 0.7379, Val Acc: 53.70%\n",
      "-----------------------------------\n",
      "\n",
      "Epoch 5 of 10\n"
     ]
    },
    {
     "data": {
      "application/vnd.jupyter.widget-view+json": {
       "model_id": "ab16876d102b46998b11d525f94fcb27",
       "version_major": 2,
       "version_minor": 0
      },
      "text/plain": [
       "Training:   0%|          | 0/50 [00:00<?, ?batch/s]"
      ]
     },
     "metadata": {},
     "output_type": "display_data"
    },
    {
     "data": {
      "application/vnd.jupyter.widget-view+json": {
       "model_id": "c9da24edcac747b18c81cfff8e31ed30",
       "version_major": 2,
       "version_minor": 0
      },
      "text/plain": [
       "Validation:   0%|          | 0/7 [00:00<?, ?batch/s]"
      ]
     },
     "metadata": {},
     "output_type": "display_data"
    },
    {
     "name": "stdout",
     "output_type": "stream",
     "text": [
      "Val Loss: 0.7303, Val Acc: 53.95%\n",
      "-----------------------------------\n",
      "\n",
      "Epoch 6 of 10\n"
     ]
    },
    {
     "data": {
      "application/vnd.jupyter.widget-view+json": {
       "model_id": "1bb9acc3ceba4efb908d805a0808e5fe",
       "version_major": 2,
       "version_minor": 0
      },
      "text/plain": [
       "Training:   0%|          | 0/50 [00:00<?, ?batch/s]"
      ]
     },
     "metadata": {},
     "output_type": "display_data"
    },
    {
     "data": {
      "application/vnd.jupyter.widget-view+json": {
       "model_id": "83264ec09f2c442ca6c411307307b6da",
       "version_major": 2,
       "version_minor": 0
      },
      "text/plain": [
       "Validation:   0%|          | 0/7 [00:00<?, ?batch/s]"
      ]
     },
     "metadata": {},
     "output_type": "display_data"
    },
    {
     "name": "stdout",
     "output_type": "stream",
     "text": [
      "Val Loss: 0.7152, Val Acc: 54.78%\n",
      "-----------------------------------\n",
      "\n",
      "Epoch 7 of 10\n"
     ]
    },
    {
     "data": {
      "application/vnd.jupyter.widget-view+json": {
       "model_id": "27870bbf90d140bcbd2b0bf4f4b5cf14",
       "version_major": 2,
       "version_minor": 0
      },
      "text/plain": [
       "Training:   0%|          | 0/50 [00:00<?, ?batch/s]"
      ]
     },
     "metadata": {},
     "output_type": "display_data"
    },
    {
     "data": {
      "application/vnd.jupyter.widget-view+json": {
       "model_id": "a026831631ff41b8bd65a79e64a28cc5",
       "version_major": 2,
       "version_minor": 0
      },
      "text/plain": [
       "Validation:   0%|          | 0/7 [00:00<?, ?batch/s]"
      ]
     },
     "metadata": {},
     "output_type": "display_data"
    },
    {
     "name": "stdout",
     "output_type": "stream",
     "text": [
      "Val Loss: 0.7406, Val Acc: 50.26%\n",
      "-----------------------------------\n",
      "\n",
      "Epoch 8 of 10\n"
     ]
    },
    {
     "data": {
      "application/vnd.jupyter.widget-view+json": {
       "model_id": "07db81c9ec914581afb9eaa8962918af",
       "version_major": 2,
       "version_minor": 0
      },
      "text/plain": [
       "Training:   0%|          | 0/50 [00:00<?, ?batch/s]"
      ]
     },
     "metadata": {},
     "output_type": "display_data"
    },
    {
     "data": {
      "application/vnd.jupyter.widget-view+json": {
       "model_id": "4eace5e5b38044f499f0c086928cb484",
       "version_major": 2,
       "version_minor": 0
      },
      "text/plain": [
       "Validation:   0%|          | 0/7 [00:00<?, ?batch/s]"
      ]
     },
     "metadata": {},
     "output_type": "display_data"
    },
    {
     "name": "stdout",
     "output_type": "stream",
     "text": [
      "Val Loss: 0.7295, Val Acc: 57.53%\n",
      "-----------------------------------\n",
      "\n",
      "Epoch 9 of 10\n"
     ]
    },
    {
     "data": {
      "application/vnd.jupyter.widget-view+json": {
       "model_id": "d4a4aa112df341d1b9fe6b05d92674ed",
       "version_major": 2,
       "version_minor": 0
      },
      "text/plain": [
       "Training:   0%|          | 0/50 [00:00<?, ?batch/s]"
      ]
     },
     "metadata": {},
     "output_type": "display_data"
    },
    {
     "data": {
      "application/vnd.jupyter.widget-view+json": {
       "model_id": "a0f433f071434368ba5a92a5f7c3e2bb",
       "version_major": 2,
       "version_minor": 0
      },
      "text/plain": [
       "Validation:   0%|          | 0/7 [00:00<?, ?batch/s]"
      ]
     },
     "metadata": {},
     "output_type": "display_data"
    },
    {
     "name": "stdout",
     "output_type": "stream",
     "text": [
      "Val Loss: 0.7380, Val Acc: 50.51%\n",
      "-----------------------------------\n",
      "\n",
      "Epoch 10 of 10\n"
     ]
    },
    {
     "data": {
      "application/vnd.jupyter.widget-view+json": {
       "model_id": "34b4d39dc6b74983a79b970e873a57c9",
       "version_major": 2,
       "version_minor": 0
      },
      "text/plain": [
       "Training:   0%|          | 0/50 [00:00<?, ?batch/s]"
      ]
     },
     "metadata": {},
     "output_type": "display_data"
    },
    {
     "data": {
      "application/vnd.jupyter.widget-view+json": {
       "model_id": "2d084599813744519e7a6e23835787d4",
       "version_major": 2,
       "version_minor": 0
      },
      "text/plain": [
       "Validation:   0%|          | 0/7 [00:00<?, ?batch/s]"
      ]
     },
     "metadata": {},
     "output_type": "display_data"
    },
    {
     "name": "stdout",
     "output_type": "stream",
     "text": [
      "Val Loss: 0.7247, Val Acc: 52.55%\n",
      "-----------------------------------\n",
      "\n"
     ]
    },
    {
     "data": {
      "image/png": "[encoded data removed]",
      "text/plain": [
       "<Figure size 1000x700 with 1 Axes>"
      ]
     },
     "metadata": {},
     "output_type": "display_data"
    }
   ],
   "source": [
    "# Train model1 with the unbiased dataset\n",
    "for epoch in range(num_epochs):\n",
    "    print(f\"Epoch {epoch+1} of {num_epochs}\")\n",
    "    train_loss, train_accuracy = train(model1, criterion1, optimizer1, unbiased_train_loader)\n",
    "    val_loss, val_accuracy = validate(model1, criterion1, unbiased_val_loader)\n",
    "    train_losses.append(train_loss)\n",
    "    val_losses.append(val_loss)\n",
    "    train_acc.append(train_accuracy)\n",
    "    val_acc.append(val_accuracy)\n",
    "    scheduler1.step()\n",
    "    print(\"-----------------------------------\")\n",
    "    print()\n",
    "    \n",
    "# Plot loss\n",
    "plt.figure(figsize=(10, 7))\n",
    "plt.plot(train_losses, label='Train Loss')\n",
    "plt.plot(val_losses, label='Validation Loss')\n",
    "plt.xlabel('Epoch')\n",
    "plt.ylabel('Loss')\n",
    "plt.legend()\n",
    "plt.show()"
   ]
  },
  {
   "cell_type": "code",
   "execution_count": null,
   "metadata": {},
   "outputs": [
    {
     "name": "stdout",
     "output_type": "stream",
     "text": [
      "Epoch 1 of 10\n"
     ]
    },
    {
     "data": {
      "application/vnd.jupyter.widget-view+json": {
       "model_id": "4a22dadb6f694bea9205a9a219500f54",
       "version_major": 2,
       "version_minor": 0
      },
      "text/plain": [
       "Training:   0%|          | 0/50 [00:00<?, ?batch/s]"
      ]
     },
     "metadata": {},
     "output_type": "display_data"
    },
    {
     "data": {
      "application/vnd.jupyter.widget-view+json": {
       "model_id": "c9a6d3d72ae141f9bc1ff5b339a62fcd",
       "version_major": 2,
       "version_minor": 0
      },
      "text/plain": [
       "Validation:   0%|          | 0/7 [00:00<?, ?batch/s]"
      ]
     },
     "metadata": {},
     "output_type": "display_data"
    },
    {
     "name": "stdout",
     "output_type": "stream",
     "text": [
      "Val Loss: 1.7533, Val Acc: 41.77%\n",
      "-----------------------------------\n",
      "\n",
      "Epoch 2 of 10\n"
     ]
    },
    {
     "data": {
      "application/vnd.jupyter.widget-view+json": {
       "model_id": "f56759ac23a84b2d9c323b926606bef2",
       "version_major": 2,
       "version_minor": 0
      },
      "text/plain": [
       "Training:   0%|          | 0/50 [00:00<?, ?batch/s]"
      ]
     },
     "metadata": {},
     "output_type": "display_data"
    },
    {
     "data": {
      "application/vnd.jupyter.widget-view+json": {
       "model_id": "b43630be4d734d26bbfa16ba8fa30c92",
       "version_major": 2,
       "version_minor": 0
      },
      "text/plain": [
       "Validation:   0%|          | 0/7 [00:00<?, ?batch/s]"
      ]
     },
     "metadata": {},
     "output_type": "display_data"
    },
    {
     "name": "stdout",
     "output_type": "stream",
     "text": [
      "Val Loss: 0.5192, Val Acc: 86.54%\n",
      "-----------------------------------\n",
      "\n",
      "Epoch 3 of 10\n"
     ]
    },
    {
     "data": {
      "application/vnd.jupyter.widget-view+json": {
       "model_id": "e2481cf9279d4a6c87c001d2f3d34631",
       "version_major": 2,
       "version_minor": 0
      },
      "text/plain": [
       "Training:   0%|          | 0/50 [00:00<?, ?batch/s]"
      ]
     },
     "metadata": {},
     "output_type": "display_data"
    },
    {
     "data": {
      "application/vnd.jupyter.widget-view+json": {
       "model_id": "318bf592d09a44e78798b36e147659fe",
       "version_major": 2,
       "version_minor": 0
      },
      "text/plain": [
       "Validation:   0%|          | 0/7 [00:00<?, ?batch/s]"
      ]
     },
     "metadata": {},
     "output_type": "display_data"
    },
    {
     "name": "stdout",
     "output_type": "stream",
     "text": [
      "Val Loss: 0.3817, Val Acc: 88.14%\n",
      "-----------------------------------\n",
      "\n",
      "Epoch 4 of 10\n"
     ]
    },
    {
     "data": {
      "application/vnd.jupyter.widget-view+json": {
       "model_id": "a0871fb514d34de5a6b83c5ab029bc73",
       "version_major": 2,
       "version_minor": 0
      },
      "text/plain": [
       "Training:   0%|          | 0/50 [00:00<?, ?batch/s]"
      ]
     },
     "metadata": {},
     "output_type": "display_data"
    },
    {
     "data": {
      "application/vnd.jupyter.widget-view+json": {
       "model_id": "d407602619d342fca57cb27c7d5bf48e",
       "version_major": 2,
       "version_minor": 0
      },
      "text/plain": [
       "Validation:   0%|          | 0/7 [00:00<?, ?batch/s]"
      ]
     },
     "metadata": {},
     "output_type": "display_data"
    },
    {
     "name": "stdout",
     "output_type": "stream",
     "text": [
      "Val Loss: 0.3639, Val Acc: 88.14%\n",
      "-----------------------------------\n",
      "\n",
      "Epoch 5 of 10\n"
     ]
    },
    {
     "data": {
      "application/vnd.jupyter.widget-view+json": {
       "model_id": "d90f71a13aa24daf92587bca498c0a50",
       "version_major": 2,
       "version_minor": 0
      },
      "text/plain": [
       "Training:   0%|          | 0/50 [00:00<?, ?batch/s]"
      ]
     },
     "metadata": {},
     "output_type": "display_data"
    },
    {
     "data": {
      "application/vnd.jupyter.widget-view+json": {
       "model_id": "ba68499d17844eba92c5d8b007003d5f",
       "version_major": 2,
       "version_minor": 0
      },
      "text/plain": [
       "Validation:   0%|          | 0/7 [00:00<?, ?batch/s]"
      ]
     },
     "metadata": {},
     "output_type": "display_data"
    },
    {
     "name": "stdout",
     "output_type": "stream",
     "text": [
      "Val Loss: 0.3472, Val Acc: 89.73%\n",
      "-----------------------------------\n",
      "\n",
      "Epoch 6 of 10\n"
     ]
    },
    {
     "data": {
      "application/vnd.jupyter.widget-view+json": {
       "model_id": "bd43d33e61674b709384e7fd86c6049f",
       "version_major": 2,
       "version_minor": 0
      },
      "text/plain": [
       "Training:   0%|          | 0/50 [00:00<?, ?batch/s]"
      ]
     },
     "metadata": {},
     "output_type": "display_data"
    },
    {
     "data": {
      "application/vnd.jupyter.widget-view+json": {
       "model_id": "f0a25368195c4c17a46a275645748a51",
       "version_major": 2,
       "version_minor": 0
      },
      "text/plain": [
       "Validation:   0%|          | 0/7 [00:00<?, ?batch/s]"
      ]
     },
     "metadata": {},
     "output_type": "display_data"
    },
    {
     "name": "stdout",
     "output_type": "stream",
     "text": [
      "Val Loss: 0.3340, Val Acc: 89.73%\n",
      "-----------------------------------\n",
      "\n",
      "Epoch 7 of 10\n"
     ]
    },
    {
     "data": {
      "application/vnd.jupyter.widget-view+json": {
       "model_id": "67b1058a89ce4060b58e1c24da13cbf8",
       "version_major": 2,
       "version_minor": 0
      },
      "text/plain": [
       "Training:   0%|          | 0/50 [00:00<?, ?batch/s]"
      ]
     },
     "metadata": {},
     "output_type": "display_data"
    },
    {
     "data": {
      "application/vnd.jupyter.widget-view+json": {
       "model_id": "9ef5e12d863444b289d5853a631a81bf",
       "version_major": 2,
       "version_minor": 0
      },
      "text/plain": [
       "Validation:   0%|          | 0/7 [00:00<?, ?batch/s]"
      ]
     },
     "metadata": {},
     "output_type": "display_data"
    },
    {
     "name": "stdout",
     "output_type": "stream",
     "text": [
      "Val Loss: 0.4617, Val Acc: 84.95%\n",
      "-----------------------------------\n",
      "\n",
      "Epoch 8 of 10\n"
     ]
    },
    {
     "data": {
      "application/vnd.jupyter.widget-view+json": {
       "model_id": "1991910ac830422d8778bda30b64ea6a",
       "version_major": 2,
       "version_minor": 0
      },
      "text/plain": [
       "Training:   0%|          | 0/50 [00:00<?, ?batch/s]"
      ]
     },
     "metadata": {},
     "output_type": "display_data"
    },
    {
     "data": {
      "application/vnd.jupyter.widget-view+json": {
       "model_id": "1a0a3177374a4aea9e2161dc5e196d9b",
       "version_major": 2,
       "version_minor": 0
      },
      "text/plain": [
       "Validation:   0%|          | 0/7 [00:00<?, ?batch/s]"
      ]
     },
     "metadata": {},
     "output_type": "display_data"
    },
    {
     "name": "stdout",
     "output_type": "stream",
     "text": [
      "Val Loss: 0.3219, Val Acc: 89.73%\n",
      "-----------------------------------\n",
      "\n",
      "Epoch 9 of 10\n"
     ]
    },
    {
     "data": {
      "application/vnd.jupyter.widget-view+json": {
       "model_id": "2168542cf5bd4fe7b434f26f407e0787",
       "version_major": 2,
       "version_minor": 0
      },
      "text/plain": [
       "Training:   0%|          | 0/50 [00:00<?, ?batch/s]"
      ]
     },
     "metadata": {},
     "output_type": "display_data"
    },
    {
     "data": {
      "application/vnd.jupyter.widget-view+json": {
       "model_id": "8ee2c025c2384b25b43e1bfb49cb5101",
       "version_major": 2,
       "version_minor": 0
      },
      "text/plain": [
       "Validation:   0%|          | 0/7 [00:00<?, ?batch/s]"
      ]
     },
     "metadata": {},
     "output_type": "display_data"
    },
    {
     "name": "stdout",
     "output_type": "stream",
     "text": [
      "Val Loss: 0.3268, Val Acc: 89.73%\n",
      "-----------------------------------\n",
      "\n",
      "Epoch 10 of 10\n"
     ]
    },
    {
     "data": {
      "application/vnd.jupyter.widget-view+json": {
       "model_id": "87aa9ac4136f40a494aabf6fb2f4a14c",
       "version_major": 2,
       "version_minor": 0
      },
      "text/plain": [
       "Training:   0%|          | 0/50 [00:00<?, ?batch/s]"
      ]
     },
     "metadata": {},
     "output_type": "display_data"
    },
    {
     "data": {
      "application/vnd.jupyter.widget-view+json": {
       "model_id": "0af48a70059f419b9e62f9b23ee821e3",
       "version_major": 2,
       "version_minor": 0
      },
      "text/plain": [
       "Validation:   0%|          | 0/7 [00:00<?, ?batch/s]"
      ]
     },
     "metadata": {},
     "output_type": "display_data"
    },
    {
     "name": "stdout",
     "output_type": "stream",
     "text": [
      "Val Loss: 0.3249, Val Acc: 89.73%\n",
      "-----------------------------------\n",
      "\n"
     ]
    },
    {
     "data": {
      "image/png": "[encoded data removed]",
      "text/plain": [
       "<Figure size 1000x700 with 1 Axes>"
      ]
     },
     "metadata": {},
     "output_type": "display_data"
    }
   ],
   "source": [
    "# Train model2 with the biased dataset\n",
    "for epoch in range(num_epochs):\n",
    "    print(f\"Epoch {epoch+1} of {num_epochs}\")\n",
    "    train_loss, train_accuracy = train(model2, criterion2, optimizer2, biased_train_loader)\n",
    "    val_loss, val_accuracy = validate(model2, criterion2, biased_val_loader)\n",
    "    train_losses.append(train_loss)\n",
    "    val_losses.append(val_loss)\n",
    "    train_acc.append(train_accuracy)\n",
    "    val_acc.append(val_accuracy)\n",
    "    scheduler2.step()\n",
    "    print(\"-----------------------------------\")\n",
    "    print()\n",
    "\n",
    "# Plot loss\n",
    "plt.figure(figsize=(10, 7))\n",
    "plt.plot(train_losses, label='Train Loss')\n",
    "plt.plot(val_losses, label='Validation Loss')\n",
    "plt.xlabel('Epoch')\n",
    "plt.ylabel('Loss')\n",
    "plt.legend()\n",
    "plt.show()"
   ]
  },
  {
   "cell_type": "markdown",
   "metadata": {},
   "source": [
    "**Question 2** : Study experimentally if $\\textit{model}_2$ is biased or not on the test data. Compare you results to what you have with $\\textit{model}_1$."
   ]
  },
  {
   "cell_type": "code",
   "execution_count": null,
   "metadata": {},
   "outputs": [],
   "source": [
    "# DI metric function\n",
    "def compute_DI_metric(model, test_loader):\n",
    "    model.eval()\n",
    "    S_0_preds = []\n",
    "    S_1_preds = []\n",
    "    \n",
    "    with torch.no_grad():\n",
    "        for images, labels, S in test_loader:\n",
    "            images = images.to(device)\n",
    "            outputs = model(images)\n",
    "            _, preds = torch.max(outputs, 1)\n",
    "            \n",
    "            S_0_preds.extend(preds[S == 0].cpu().numpy())\n",
    "            S_1_preds.extend(preds[S == 1].cpu().numpy())\n",
    "    \n",
    "    P_y1_S0 = np.mean(np.array(S_0_preds) == 1)\n",
    "    P_y1_S1 = np.mean(np.array(S_1_preds) == 1)\n",
    "    \n",
    "    DI = P_y1_S0 / P_y1_S1 if P_y1_S1 != 0 else float('inf')\n",
    "    return DI"
   ]
  },
  {
   "cell_type": "code",
   "execution_count": null,
   "metadata": {},
   "outputs": [
    {
     "name": "stdout",
     "output_type": "stream",
     "text": [
      "DI metric for model1: 1.6702539819199314\n",
      "DI metric for model2: inf\n"
     ]
    }
   ],
   "source": [
    "# Compute DI metric for model1 and model2\n",
    "DI_model1 = compute_DI_metric(model1, biased_test_loader)\n",
    "DI_model2 = compute_DI_metric(model2, biased_test_loader)\n",
    "\n",
    "print(f\"DI metric for model1: {DI_model1}\")\n",
    "print(f\"DI metric for model2: {DI_model2}\")"
   ]
  },
  {
   "cell_type": "markdown",
   "metadata": {},
   "source": [
    "**Question 3** : Compare the accuracy scores on your test data for both $\\textit{model}_1$ and $\\textit{model}_2$ for the binary classification task."
   ]
  },
  {
   "cell_type": "code",
   "execution_count": null,
   "metadata": {},
   "outputs": [],
   "source": [
    "# Test function\n",
    "def test_biased(model, test_loader):\n",
    "    model.eval()\n",
    "    \n",
    "    pred_losses = []\n",
    "    pred_acc = []\n",
    "    \n",
    "    with torch.no_grad():\n",
    "        for data in test_loader:\n",
    "            images = data[0].to(device)\n",
    "            labels = data[1].to(device)\n",
    "            \n",
    "            # Forward pass\n",
    "            outputs = model(images)\n",
    "            loss = criterion(outputs, labels)\n",
    "            pred_losses.append(loss.item())\n",
    "            \n",
    "            # Compute accuracy\n",
    "            _, argmax = torch.max(outputs, 1)\n",
    "            accuracy = (labels == argmax).float().mean()\n",
    "            pred_acc.append(accuracy.cpu().numpy())\n",
    "            \n",
    "    print(f\"Test Loss: {np.mean(pred_losses):.4f}, Test Acc: {np.mean(pred_acc)*100:.2f}%\")\n",
    "    return np.mean(pred_losses), np.mean(pred_acc)"
   ]
  },
  {
   "cell_type": "code",
   "execution_count": null,
   "metadata": {},
   "outputs": [
    {
     "name": "stdout",
     "output_type": "stream",
     "text": [
      "Model1 (unbiased)\n",
      "Test Loss: 0.6360, Test Acc: 63.54%\n",
      "Model2 (biased)\n",
      "Test Loss: 0.2810, Test Acc: 91.96%\n"
     ]
    },
    {
     "data": {
      "text/plain": [
       "(0.2810050217168672, 0.91964287)"
      ]
     },
     "execution_count": 40,
     "metadata": {},
     "output_type": "execute_result"
    }
   ],
   "source": [
    "# Test model1 and model2\n",
    "print(\"Model1 (unbiased)\")\n",
    "test_biased(model1, unbiased_test_loader)\n",
    "print(\"Model2 (biased)\")\n",
    "test_biased(model2, biased_test_loader)"
   ]
  },
  {
   "cell_type": "markdown",
   "metadata": {},
   "source": [
    "**Question 4** : What can you conclude from the two previous questions ?"
   ]
  },
  {
   "cell_type": "markdown",
   "metadata": {},
   "source": [
    "The model 2 is biased according to the DI metric. It shows when comparing the accuracy scores of the two models that the biased model has a higher accuracy score than the unbiased model. This is due to the fact that the biased model is using the noise-like $\\varepsilon$ to predict the label $y$."
   ]
  },
  {
   "cell_type": "markdown",
   "metadata": {},
   "source": []
  }
 ],
 "metadata": {
  "kernelspec": {
   "display_name": "Python 3",
   "language": "python",
   "name": "python3"
  },
  "language_info": {
   "codemirror_mode": {
    "name": "ipython",
    "version": 3
   },
   "file_extension": ".py",
   "mimetype": "text/x-python",
   "name": "python",
   "nbconvert_exporter": "python",
   "pygments_lexer": "ipython3",
   "version": "3.10.13"
  }
 },
 "nbformat": 4,
 "nbformat_minor": 2
}
